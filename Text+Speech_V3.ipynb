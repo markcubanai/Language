{
 "cells": [
  {
   "cell_type": "markdown",
   "metadata": {},
   "source": [
    "# Introduction to AI\n",
    "## Text and Speech Demos\n",
    "Talk with your group about what you think each line of code does."
   ]
  },
  {
   "cell_type": "markdown",
   "metadata": {},
   "source": [
    "# Part 1 - Performing Basic Frequency Analysis\n",
    "Let's start by using some very basic frequency analysis on a document to see if we can determine what the document is about  based on word frequency.\n",
    "\n",
    "### Load a Text Document\n",
    "Run the cell below to load the transcript of a Shark Tank pitch."
   ]
  },
  {
   "cell_type": "code",
   "execution_count": 2,
   "metadata": {},
   "outputs": [
    {
     "name": "stdout",
     "output_type": "stream",
     "text": [
      "Hi sharks, my name is Tommy Prestella and I'm an Air Force pilot from San Dimas, California. I'm here today seeking one hundred thousand dollars for twenty five percent of my company. Now sharks, I love summer days as much as the next guy. What's not to love, right? I mean backyard barbeques, evening baseball games...I love it all. But sharks, there's one thing about Summer that I just really don't like. It's freakin' hot! And if you've been stationed in the deep south like I have for the past twelve years, or deployed overseas to Iraq, Afghanistan, or Africa, you know that those places get crazy hot! I got sick and tired of sweating through my clothes everytime I stepped outside and just always being uncomfortable. So I fused together a creative way to stay cool and beat the summer heat. Sharks, you guys ready to cool off? Introducing the one and only Pick-up Pools. Sharks, as you can see the Pick-up Pool is the ultimate truck bed swimming pool. This patented pool liner instantly transforms the bed of your pickup truck into an above-ground pool. Simply pull the corners of the Pick-up Pool over the corners of your truck bed, add water, and bam you're ready for a pool party. When you're done there's a drain at the back, you can drain the water without lowering your towgear. Now sharks, the Pick-up Pool is a brand new product in an untapped market. So what do you say? Who wants to go for a swim and make a deal with Pick-up Pool?\n",
      "\n"
     ]
    }
   ],
   "source": [
    "# Open a Shark Tank pitch by Pick-up Pools\n",
    "doc1 = open(\"SharkTank.txt\", \"r\")\n",
    "\n",
    "# Read the document and print its contents\n",
    "doc1Txt = doc1.read()\n",
    "print(doc1Txt)"
   ]
  },
  {
   "cell_type": "markdown",
   "metadata": {},
   "source": [
    "#### Normalize the Text\n",
    "\n",
    "Text includes a lot of punctuation, which we need to remove if we want to work only with the actual words.\n",
    "\n",
    "Run the cell below to strip all the punctuation from the text and convert the words to lower case."
   ]
  },
  {
   "cell_type": "code",
   "execution_count": 3,
   "metadata": {},
   "outputs": [
    {
     "name": "stdout",
     "output_type": "stream",
     "text": [
      "hi sharks my name is tommy prestella and im an air force pilot from san dimas california im here today seeking one hundred thousand dollars for twenty five percent of my company now sharks i love summer days as much as the next guy whats not to love right i mean backyard barbeques evening baseball gamesi love it all but sharks theres one thing about summer that i just really dont like its freakin hot and if youve been stationed in the deep south like i have for the past twelve years or deployed overseas to iraq afghanistan or africa you know that those places get crazy hot i got sick and tired of sweating through my clothes everytime i stepped outside and just always being uncomfortable so i fused together a creative way to stay cool and beat the summer heat sharks you guys ready to cool off introducing the one and only pickup pools sharks as you can see the pickup pool is the ultimate truck bed swimming pool this patented pool liner instantly transforms the bed of your pickup truck into an aboveground pool simply pull the corners of the pickup pool over the corners of your truck bed add water and bam youre ready for a pool party when youre done theres a drain at the back you can drain the water without lowering your towgear now sharks the pickup pool is a brand new product in an untapped market so what do you say who wants to go for a swim and make a deal with pickup pool\n",
      "\n"
     ]
    }
   ],
   "source": [
    "from string import punctuation\n",
    "\n",
    "# remove numeric digits\n",
    "txt = ''.join(c for c in doc1Txt if not c.isdigit())\n",
    "\n",
    "# remove punctuation and make lower case\n",
    "txt = ''.join(c for c in txt if c not in punctuation).lower()\n",
    "\n",
    "# print the normalized text\n",
    "print (txt)"
   ]
  },
  {
   "cell_type": "markdown",
   "metadata": {},
   "source": [
    "#### Get the Frequency Distribution\n",
    "Now let's tokenize the text (split it into individual words), and count the number of times each word occurs."
   ]
  },
  {
   "cell_type": "code",
   "execution_count": 4,
   "metadata": {},
   "outputs": [
    {
     "name": "stdout",
     "output_type": "stream",
     "text": [
      "        Count\n",
      "hi          1\n",
      "sharks      6\n",
      "my          3\n",
      "name        1\n",
      "is          3\n",
      "...       ...\n",
      "go          1\n",
      "swim        1\n",
      "make        1\n",
      "deal        1\n",
      "with        1\n",
      "\n",
      "[163 rows x 1 columns]\n"
     ]
    },
    {
     "name": "stderr",
     "output_type": "stream",
     "text": [
      "[nltk_data] Downloading package punkt to /Users/catherine/nltk_data...\n",
      "[nltk_data]   Package punkt is already up-to-date!\n"
     ]
    }
   ],
   "source": [
    "import nltk\n",
    "import pandas as pd\n",
    "from nltk.probability import FreqDist\n",
    "nltk.download(\"punkt\")\n",
    "\n",
    "# Tokenize the text into individual words\n",
    "words = nltk.tokenize.word_tokenize(txt)\n",
    "\n",
    "# Get the frequency distribution of the words into a data frame\n",
    "fdist = FreqDist(words)\n",
    "count_frame = pd.DataFrame(fdist, index =[0]).T\n",
    "count_frame.columns = ['Count']\n",
    "print (count_frame)"
   ]
  },
  {
   "cell_type": "markdown",
   "metadata": {},
   "source": [
    "#### Visualize Word Frequency\n",
    "It's often easier to analyze frequency by creating a visualization, such as a Pareto chart."
   ]
  },
  {
   "cell_type": "code",
   "execution_count": 5,
   "metadata": {},
   "outputs": [
    {
     "data": {
      "image/png": "[encoded data removed]",
      "text/plain": [
       "<Figure size 1152x648 with 1 Axes>"
      ]
     },
     "metadata": {
      "needs_background": "light"
     },
     "output_type": "display_data"
    }
   ],
   "source": [
    "%matplotlib inline\n",
    "import matplotlib.pyplot as plt\n",
    "\n",
    "# Sort the data frame by frequency\n",
    "counts = count_frame.sort_values('Count', ascending = False)\n",
    "\n",
    "# Display the top 60 words as a bar plot\n",
    "fig = plt.figure(figsize=(16, 9))\n",
    "ax = fig.gca()    \n",
    "counts['Count'][:60].plot(kind = 'bar', ax = ax)\n",
    "ax.set_title('Frequency of the most common words')\n",
    "ax.set_ylabel('Frequency of word')\n",
    "ax.set_xlabel('Word')\n",
    "plt.show()"
   ]
  },
  {
   "cell_type": "markdown",
   "metadata": {},
   "source": [
    "### Remove Stop Words and Visualize Frequency Distribution for the Remaining Words\n",
    "\n",
    "A large number of the words in the text are common words like \"the\" or \"and\". These \"stopwords\" add little in the way of semantic meaning to the text, and won't help us determine the subject matter - so run the cell below to remove them. Now that we've prepared the text, we can tokenize the string into a list of individual words, and then perform frequency analysis on those words based on how often they appear in the text."
   ]
  },
  {
   "cell_type": "code",
   "execution_count": 6,
   "metadata": {},
   "outputs": [
    {
     "name": "stderr",
     "output_type": "stream",
     "text": [
      "[nltk_data] Downloading package stopwords to\n",
      "[nltk_data]     /Users/catherine/nltk_data...\n",
      "[nltk_data]   Package stopwords is already up-to-date!\n"
     ]
    },
    {
     "data": {
      "image/png": "[encoded data removed]",
      "text/plain": [
       "<Figure size 1152x648 with 1 Axes>"
      ]
     },
     "metadata": {
      "needs_background": "light"
     },
     "output_type": "display_data"
    }
   ],
   "source": [
    "# Get standard stop words from NLTK\n",
    "nltk.download(\"stopwords\")\n",
    "from nltk.corpus import stopwords\n",
    "\n",
    "# Filter out the stop words\n",
    "txt = ' '.join([word for word in txt.split() if word not in (stopwords.words('english'))])\n",
    "\n",
    "# Get the frequency distribution of the remaining words\n",
    "words = nltk.tokenize.word_tokenize(txt)\n",
    "fdist = FreqDist(words)\n",
    "count_frame = pd.DataFrame(fdist, index =[0]).T\n",
    "count_frame.columns = ['Count']\n",
    "\n",
    "# Plot the frequency of the top 60 words\n",
    "counts = count_frame.sort_values('Count', ascending = False)\n",
    "fig = plt.figure(figsize=(16, 9))\n",
    "ax = fig.gca()    \n",
    "counts['Count'][:60].plot(kind = 'bar', ax = ax)\n",
    "ax.set_title('Frequency of the most common words')\n",
    "ax.set_ylabel('Frequency of word')\n",
    "ax.set_xlabel('Word')\n",
    "plt.show()"
   ]
  },
  {
   "cell_type": "code",
   "execution_count": 7,
   "metadata": {},
   "outputs": [
    {
     "name": "stdout",
     "output_type": "stream",
     "text": [
      "------------------------------------------------\n",
      "Shark Tank Pick-up Pools Pitch\n",
      "------------------------------------------------\n",
      "Hi sharks, my name is Tommy Prestella and I'm an Air Force pilot from San Dimas, California. I'm here today seeking one hundred thousand dollars for twenty five percent of my company. Now sharks, I love summer days as much as the next guy. What's not to love, right? I mean backyard barbeques, evening baseball games...I love it all. But sharks, there's one thing about Summer that I just really don't like. It's freakin' hot! And if you've been stationed in the deep south like I have for the past twelve years, or deployed overseas to Iraq, Afghanistan, or Africa, you know that those places get crazy hot! I got sick and tired of sweating through my clothes everytime I stepped outside and just always being uncomfortable. So I fused together a creative way to stay cool and beat the summer heat. Sharks, you guys ready to cool off? Introducing the one and only Pick-up Pools. Sharks, as you can see the Pick-up Pool is the ultimate truck bed swimming pool. This patented pool liner instantly transforms the bed of your pickup truck into an above-ground pool. Simply pull the corners of the Pick-up Pool over the corners of your truck bed, add water, and bam you're ready for a pool party. When you're done there's a drain at the back, you can drain the water without lowering your towgear. Now sharks, the Pick-up Pool is a brand new product in an untapped market. So what do you say? Who wants to go for a swim and make a deal with Pick-up Pool?\n",
      "\n",
      "------------------------------------------------\n",
      "Spider-Man: Into the Spider-Verse\n",
      "------------------------------------------------\n",
      "SEQ. 0100 - THE ALTERNATE SPIDER-MAN \"TAS\" WE BEGIN ON A COMIC.\n",
      "The cover asks WHO IS SPIDER-MAN?\n",
      "SPIDER-MAN (V.O.)\n",
      "Alright, lets do this one last time. My name is Peter Parker.\n",
      "QUICK CUTS of a BLOND PETER PARKER\n",
      "Pulling down his mask...a name tag that reads \"Peter Parker\"...various shots of Spider-Man IN ACTION.\n",
      "SPIDER-MAN (V.O.)\n",
      "I was bitten by a radioactive spider and for ten years Ive been the one and only Spider-Man. Im pretty sure you know the rest.\n",
      "UNCLE BEN tells Peter:\n",
      "UNCLE BEN (V.O.)\n",
      "With great power comes great responsibility.\n",
      "Uncle Ben walks into the beyond.\n",
      "SPIDER-MAN (V.O.)\n",
      "I saved a bunch of people, fell in love, saved the city, and then I saved the city again and again and again...\n",
      "Spiderman saves the city, kisses MJ, saves the city some more. The shots evoke ICONIC SPIDER-MAN IMAGES, but each one is subtly different, somehow altered.\n",
      "SPIDER-MAN (V.O.)\n",
      "And uh... I did this.\n",
      "Cut to Spider-Man dancing on the street, exactly like in the movie Spider-Man 3.\n",
      "SPIDER-MAN (V.O.)\n",
      "We dont really talk about this.\n",
      "A THREE PANEL SPLIT SCREEN: shots of Spider-Mans \"products\":\n",
      "SPIDER-MAN (V.O.)\n",
      "Look, Im a comic book, Im a cereal, did a Christmas album. I have an excellent theme song.\n",
      " (MORE)\n",
      "\n",
      " SPIDER-MAN (V.O.) (CONTD)\n",
      "And a so-so popsicle. I mean, Ive looked worse.\n",
      "MATCH CUT -- Peter, PINNED to a WALL by a mechanical tentacle arm. KINGPIN punches Peter. GREEN GOBLIN fights Peter.\n",
      "SPIDER-MAN (V.O.)\n",
      "But after everything, I still love\n",
      "being Spider-Man. I mean, who wouldnt?\n",
      "Peter runs toward a SUPER-COLLIDER, something well see quite soon. Peter SLAMMED TO THE GROUND.\n",
      "SPIDER-MAN (V.O.)\n",
      "So no matter how many hits I take, I always find a way to come back.\n",
      "Peter GETS UP... in a shot that we will also remember, RIGHT BEFORE GOBLIN GRABS HIM.\n",
      "The collider EXPLOLDING, the force of the blast rippling through New York.\n",
      "SPIDER-MAN (V.O.)\n",
      "Because the only thing standing between this city and oblivion is me. Theres only one Spider-Man. And youre looking at him.\n",
      "Spider-Man WINKS. Man, hes cool.\n",
      "SEQ. 0150 - MEET MILES MORALES \"MMM\" INT. MILES APARTMENT - BEDROOM\n",
      "SMASH CUT:\n",
      "2.\n",
      " MILES MORALES draws HOME-MADE STREET ART NAME-TAGS at a desk, headphones on, singing along to a song hes too young for (\"Sunflower\"), but he doesnt quite know the words yet.\n",
      "A PHOTO of a YOUNGER MILES with his PARENTS and his UNCLE AARON visible in the background--\n",
      "RIO (O.S.)\n",
      "Miles! Miles, time for school!\n",
      "JEFFERSON (O.S.) --Miles! Miles! MILES!\n",
      "--Miles WHIPS OFF his headphones--\n",
      "\n",
      " MILES Yeah?!--\n",
      "JEFFERSON (O.S.) Are you finished packing for\n",
      "school?\n",
      "MILES\n",
      "Yeah! Just ironing my last shirt!\n",
      "Reveal his EMPTY BAG. He is NOT PACKED. Hes been AVOIDING IT.\n",
      "RIO ¡Vamo chacho!\n",
      "--He FLIES around the room, tossing VARIOUS ITEMS into the suitcase, throwing on a BLUE UNIFORM JACKET, the camera catching other childhood details--\n",
      "JEFFERSON (O.S.) Cmon, you a grown man now! Let\n",
      "show these teachers that. Lets go!\n",
      "--Miles!\n",
      "RIO (O.S.)\n",
      "INT. MILES APARTMENT - LIVING ROOM\n",
      "BAM! The door flies open. FAST-PACED, Miles enters the living room, where his parents get ready for the day.\n",
      "MILES Wheres my laptop?\n",
      "MILES ¡Yo no se!\n",
      "RIO ¿Donde le dejaste?\n",
      "JEFFERSON\n",
      "--If you want me to drive you we\n",
      "gotta go now--\n",
      "MILES (edging away)\n",
      "--No Dad, Ill walk!--\n",
      "MILES (continuing)\n",
      "--Its ok--\n",
      "JEFFERSON (CONTD) Personal chauffeur going once- -\n",
      "RIO\n",
      "Ay Maria, este nene me tiene loca!\n",
      "3.\n",
      "\n",
      " Miles grabs food. Mom and dad frantically cross behind him.\n",
      "RIO (CONTD) (impatient)\n",
      "Miles, gotta go!!\n",
      "MILES (chewing)\n",
      "In a minute!\n",
      "RIO (sing-song)\n",
      "Gotta Go-ohh...\n",
      "MILES IN A MINUTE--\n",
      "EXT. STOOP - MORNING\n",
      "Rio SMOTHERS an embarrassed Miles with kisses. Miles rolls his eyes, hates it/loves it.\n",
      "MILES Mom. I gotta go...\n",
      "RIO (kissing him)\n",
      "In a minute...\n",
      "Miles rolls his bag down the steps as Rio calls out:\n",
      "RIO (CONTD)\n",
      "Papá! Llamame! See you Friday!\n",
      "MILES\n",
      "Okay, mami. Hasta luego!\n",
      "INT. BROOKLYN STREET - MORNING\n",
      "Miles struggles down the street with the heavy bag, but hes in his element. He walks by his old school, BROOKLYN MIDDLE - passes some OLD FRIENDS, who he loves and misses.\n",
      "OLD FRIEND 1\n",
      "Ohhhhh. Look whos back! Yo whats\n",
      "going on, bro?--\n",
      "MILES\n",
      "--Hey, Im just walking by, how you\n",
      "doing?--\n",
      "4.\n",
      "\n",
      " OLD FRIEND 2 --Miles! ¿Te va bien en la escuela?-\n",
      "MILES --Seguro que si--\n",
      "OLD FRIEND 3\n",
      "Yo, Miles did you feel that\n",
      "earthquake last night?\n",
      "MILES\n",
      "What are you talking about? I slept\n",
      "like a baby last night.\n",
      "OLD FRIEND 5 MILES (CONTD) Hows that new school? --So easy!--\n",
      "OLD FRIEND 5 We miss you, Miles!\n",
      "MILES\n",
      "You miss me? I still live here!\n",
      "Wait, you miss me?\n",
      "TIME CUT: Miles RUNS DOWN THE STREET, SLAPS his HOMEMADE STICKERS on some things, ends by SLAPPING a STOP SIGN, making a LOUD CLANG--\n",
      "--but he trips on his shoe laces and falls into the street--\n",
      "MILES (CONTD)\n",
      "¡Contra!\n",
      "--POLICE LIGHTS FLASH along with the signature BWOOP BWOOP.\n",
      "MILES (CONTD) (knows whats coming)\n",
      "Ah cmon...\n",
      "SEQ. 0425 - SITTING BACK THERE \"SBT\" EXT. BROOKLYN - MORNING\n",
      "The POLICE CAR moves through the neighborhood. Miles is in the back seat. 1010 WINS plays.\n",
      "MILES\n",
      "Seriously, Dad, walking would have\n",
      "been fine.\n",
      "Reveal Jefferson driving. Miles dad is a COP!\n",
      "5.\n",
      " \n",
      " JEFFERSON\n",
      "You can walk plenty on Saturday\n",
      "when you peel those stickers off.\n",
      "MILES\n",
      "You saw that? I dont know if that\n",
      "was me, Dad.\n",
      "JEFFERSON\n",
      "And the two from yesterday on\n",
      "Clinton.\n",
      "MILES Yeah. Those were me.\n",
      "Jefferson stares, shuts down the cheekiness. Miles looks hurt. Jefferson clocks his pained look. It bums Jefferson out. Theres an awkwardness between Miles and his dad thats not there with his mom.\n",
      "They drive by a row of HIPSTER COFFEE SHOPS. Jefferson tries to bridge the gap with Miles, more cheerful:\n",
      "JEFFERSON\n",
      "Soooo... look at that, another new\n",
      "coffee shop... you see that Miles?\n",
      "MILES Totally, yeah...\n",
      "JEFFERSON\n",
      "--You see that one, whats that one\n",
      "6.\n",
      " called?\n",
      "MILES Foam Party.\n",
      "JEFFERSON\n",
      "Foam Party, come on...and\n",
      "everyone is just lining up! You see that, Miles--\n",
      "MILES (CONTD) I see it--\n",
      "JEFFERSON\n",
      "Is that a coffee shop or a disco?\n",
      "MILES\n",
      "Dad, youre old, man.\n",
      "NEWS ANCHOR (ON RADIO) There are multiple reports of\n",
      "another mysterious seismic event last night. Sources close to Spider- Man say he is looking into the problem.\n",
      "\n",
      " Jefferson shakes his head, disapproving, turns off the radio.\n",
      "JEFFERSON\n",
      "Spider-Man. I mean this guy swings\n",
      "in once a day zip zap zop in his little mask and answers to no one, right?\n",
      "MILES Yeah, Dad.\n",
      "JEFFERSON\n",
      "And meanwhile my guys are out\n",
      "there, lives on the line--\n",
      "MILES (CONTD) Uh huh...\n",
      "SCHOOL KIDS run alongside the car looking at Miles, who slinks down. They bang on the window, teasing Miles, \"you get arrested?!\"\n",
      "JEFFERSON --no masks, we show our\n",
      "faces. Accountability.\n",
      "MILES (CONTD) --Oh no! Dad, speed up, I\n",
      "know these kids--\n",
      "JEFFERSON\n",
      "--You know, with great ability\n",
      "comes great accountability--\n",
      "MILES\n",
      "Thats not even how the saying\n",
      "goes, Dad--\n",
      "JEFFERSON\n",
      "--I do like his cereal though, Ill\n",
      "give him that--\n",
      "Jeff stops the car. The teens reach Miles window.\n",
      "TEEN BOY\n",
      "Yo Miles! You get arrested?\n",
      "MILES (mortified)\n",
      "--Oh my gosh. Dont cops run red lights?\n",
      "JEFFERSON\n",
      "Some do... but not your Dad!\n",
      "EXT. NEW YORK - MORNING\n",
      "The car drives up right under the Brooklyn Bridge, to a school overlooking MANHATTAN, which LOOMS across the water.\n",
      "7.\n",
      "\n",
      " EXT. VISIONS ACADEMY - MORNING\n",
      "The car pulls up. Miles sits, not wanting to go in.\n",
      "MILES\n",
      "Why cant I go back to Brooklyn\n",
      "Middle?\n",
      "JEFFERSON (raises his eyebrows)\n",
      "Miles, youve given it two weeks. Were not having this conversation.\n",
      "MILES\n",
      "--I just think that this new school\n",
      "is elitist--\n",
      "JEFFERSON --Elitist?--\n",
      "MILES\n",
      "--and I would prefer to be at a\n",
      "normal school among the people. JEFFERSON\n",
      "The people? These are your people!\n",
      "MILES\n",
      "--Im only here 'cause I won that\n",
      "stupid lottery--\n",
      "JEFFERSON\n",
      "No way. You passed the entry test\n",
      "just like everybody else, ok! You have an opportunity here, you wanna blow that, huh? You want to end up like your Uncle?\n",
      "MILES (under his breath)\n",
      "--Whats wrong with Uncle Aaron? Hes a good guy--\n",
      "--Jefferson FLINCHES, angered. Reins it in.\n",
      "JEFFERSON\n",
      "...We all make choices in life--\n",
      "MILES\n",
      "--It doesnt feel like I have a\n",
      "choice right now--\n",
      "JEFFERSON --YOU DONT!\n",
      "8.\n",
      "\n",
      " Tension fills the car. They sit in silence for a beat.\n",
      "Miles gets out of the car and opens the front door to get his bag Jefferson staring through his rearview mirror--\n",
      "JEFFERSON (CONTD) I love you, Miles.\n",
      "MILES\n",
      "Yeah, I know, Dad. See you Friday--\n",
      "--Miles shuts the door and walks away. Jefferson watches, bummed at the state of the relationship. He lifts his P.A.\n",
      "JEFFERSON (INTO P.A.) You gotta say I love you back.\n",
      "MILES Dad are you serious?\n",
      "JEFFERSON (CONTD) I wanna hear it.\n",
      "JEFFERSON (CONTD) --I love you, Dad.\n",
      "JEFFERSON (CONTD) --I love you Dad.\n",
      "JEFFERSON (CONTD) --Dad, I love you.\n",
      "MILES You wanna hear me\n",
      "MILES --Youre dropping\n",
      "school--\n",
      "Look at this place--\n",
      "MILES Dad, I love you.\n",
      "MILES\n",
      "say it--\n",
      "me off at a\n",
      "JEFFERSON (INTO P.A.) Thats a copy. Tie your shoes\n",
      "please!\n",
      "\n",
      "------------------------------------------------\n",
      "NBA Playoffs Luka Doncic Game Winner - Play by Play\n",
      "------------------------------------------------\n",
      "Finney-Smith slaps it, looking. Curry toward the corner. Trying to get it to Luka. They do but way outside. Jackson switches on to him. Can he get it away in time? On the step back, he does. He hits! He hits! And the Mavericks have won the game! Luka Doncic with a thirty footer to win it at the horn! And the series is tied at two games a piece! \n"
     ]
    }
   ],
   "source": [
    "# remind ourselves of the first document\n",
    "print(\"------------------------------------------------\")\n",
    "print(\"Shark Tank Pick-up Pools Pitch\")\n",
    "print(\"------------------------------------------------\")\n",
    "print(doc1Txt)\n",
    "\n",
    "# Load the movie script of the opening scene for Spider-Man: Into the Spider-Verse\n",
    "doc2 = open(\"Spiderman.txt\", \"r\")\n",
    "doc2Txt = doc2.read()\n",
    "print(\"------------------------------------------------\")\n",
    "print(\"Spider-Man: Into the Spider-Verse\")\n",
    "print(\"------------------------------------------------\")\n",
    "print (doc2Txt)\n",
    "from string import punctuation\n",
    "txt2 = ''.join(c for c in doc2Txt if not c.isdigit())\n",
    "txt2 = ''.join(c for c in txt2 if c not in punctuation).lower()\n",
    "txt2 = ' '.join([word for word in txt2.split() if word not in (stopwords.words('english'))])\n",
    "\n",
    "\n",
    "# Load the play-by-play transcript of the Dallas Mavericks' Luka Doncic hitting a three pointer at the buzzer to win Game 4 of the NBA Playoffs against the Clippers\n",
    "print(\"------------------------------------------------\")\n",
    "print(\"NBA Playoffs Luka Doncic Game Winner - Play by Play\")\n",
    "print(\"------------------------------------------------\")\n",
    "doc3 = open(\"PlayByPlay.txt\", \"r\")\n",
    "doc3Txt = doc3.read()\n",
    "print (doc3Txt)\n",
    "from string import punctuation\n",
    "txt3 = ''.join(c for c in doc3Txt if not c.isdigit())\n",
    "txt3 = ''.join(c for c in txt3 if c not in punctuation).lower()\n",
    "txt3 = ' '.join([word for word in txt3.split() if word not in (stopwords.words('english'))])\n"
   ]
  },
  {
   "cell_type": "markdown",
   "metadata": {},
   "source": [
    "# Part 2 - Dig Deeper - TF-IDF\n",
    "#### Get TF-IDF Values for the top three words in each document\n",
    "\n",
    "In the previous example, we've used basic term frequency to determine each word's \"importance\" based on how often it appears in the document. When dealing with a large corpus of multiple documents, a more commonly used technique is *term frequency, inverse document frequency* (or TF-IDF) in which a score is calculated based on how often a word or term appears in one document compared to its more general frequency across the entire collection of documents. Using this technique, a high degree of relevance is assumed for words that appear frequently in a particular document, but relatively infrequently across a wide range of other documents. If this is confusing, don't worry! Run the examples below and it will become more clear."
   ]
  },
  {
   "cell_type": "code",
   "execution_count": null,
   "metadata": {},
   "outputs": [],
   "source": [
    "# install textblob library and define functions for TF-IDF\n",
    "!pip install -U textblob==0.10.0\n",
    "import math\n",
    "from textblob import TextBlob as tb\n",
    "\n",
    "def tf(word, doc):\n",
    "    return doc.words.count(word) / len(doc.words)\n",
    "\n",
    "def contains(word, docs):\n",
    "    return sum(1 for doc in docs if word in doc.words)\n",
    "\n",
    "def idf(word, docs):\n",
    "    return math.log(len(docs) / (1 + contains(word, docs)))\n",
    "\n",
    "def tfidf(word, doc, docs):\n",
    "    return tf(word,doc) * idf(word, docs)\n",
    "\n",
    "\n",
    "# Create a collection of documents as textblobs\n",
    "doc1 = tb(txt)\n",
    "doc2 = tb(txt2)\n",
    "doc3 = tb(txt3)\n",
    "docs = [doc1, doc2, doc3]\n",
    "\n",
    "# Use TF-IDF to get the three most important words from each document\n",
    "print('-----------------------------------------------------------')\n",
    "for i, doc in enumerate(docs):\n",
    "    print(\"Top words in document {}\".format(i + 1))\n",
    "    scores = {word: tfidf(word, doc, docs) for word in doc.words}\n",
    "    sorted_words = sorted(scores.items(), key=lambda x: x[1], reverse=True)\n",
    "    for word, score in sorted_words[:3]:\n",
    "        print(\"\\tWord: {}, TF-IDF: {}\".format(word, round(score, 5)))\n"
   ]
  },
  {
   "cell_type": "markdown",
   "metadata": {},
   "source": [
    "### Stemming\n",
    "\n",
    "#### View frequency of unstemmed words from Lewis Capaldi's song"
   ]
  },
  {
   "cell_type": "code",
   "execution_count": null,
   "metadata": {},
   "outputs": [],
   "source": [
    "# Load and print the lyrics to the song \"Someone You Loved\" by Lewis Capaldi\n",
    "doc4 = open(\"SomeoneYouLoved.txt\", \"r\")\n",
    "doc4Txt = doc4.read()\n",
    "\n",
    "print(\"------------------------------------------------\")\n",
    "print(\"Lyrics to 'Someone You Loved' by Lewis Capaldi\")\n",
    "print(\"------------------------------------------------\")\n",
    "print(doc4Txt)\n",
    "\n",
    "# Normalize and remove stop words\n",
    "from string import punctuation\n",
    "doc4Txt = ''.join(c for c in doc4Txt if not c.isdigit())\n",
    "doc4Txt = ''.join(c for c in doc4Txt if c not in punctuation).lower()\n",
    "doc4Txt = ' '.join([word for word in doc4Txt.split() if word not in (stopwords.words('english'))])\n",
    "\n",
    "# Get Frequency distribution\n",
    "words = nltk.tokenize.word_tokenize(doc4Txt)\n",
    "fdist = FreqDist(words)\n",
    "count_frame = pd.DataFrame(fdist, index =[0]).T\n",
    "count_frame.columns = ['Count']\n",
    "\n",
    "# Plot frequency\n",
    "counts = count_frame.sort_values('Count', ascending = False)\n",
    "fig = plt.figure(figsize=(16, 9))\n",
    "ax = fig.gca()    \n",
    "counts['Count'][:60].plot(kind = 'bar', ax = ax)\n",
    "ax.set_title('Frequency of the most common words')\n",
    "ax.set_ylabel('Frequency of word')\n",
    "ax.set_xlabel('Word')\n",
    "plt.show()"
   ]
  },
  {
   "cell_type": "markdown",
   "metadata": {},
   "source": [
    "#### Stem the words using the Porter stemmer"
   ]
  },
  {
   "cell_type": "code",
   "execution_count": null,
   "metadata": {},
   "outputs": [],
   "source": [
    "from nltk.stem.porter import PorterStemmer\n",
    "\n",
    "# Get the word stems\n",
    "ps = PorterStemmer()\n",
    "stems = [ps.stem(word) for word in words]\n",
    "\n",
    "# Get Frequency distribution\n",
    "fdist = FreqDist(stems)\n",
    "count_frame = pd.DataFrame(fdist, index =[0]).T\n",
    "count_frame.columns = ['Count']\n",
    "\n",
    "# Plot frequency\n",
    "counts = count_frame.sort_values('Count', ascending = False)\n",
    "fig = plt.figure(figsize=(16, 9))\n",
    "ax = fig.gca()    \n",
    "counts['Count'][:60].plot(kind = 'bar', ax = ax)\n",
    "ax.set_title('Frequency of the most common words')\n",
    "ax.set_ylabel('Frequency of word')\n",
    "ax.set_xlabel('Word')\n",
    "plt.show()"
   ]
  },
  {
   "cell_type": "markdown",
   "metadata": {},
   "source": [
    "# Part 3 - Named Entity Extraction using Spacy\n",
    "\n",
    "Named-entity recognition (NER) (also known as (named) entity identification, entity chunking, and entity extraction) is a subtask of information extraction that seeks to locate and classify named entities mentioned in unstructured text into pre-defined categories such as person names, organizations, locations, medical codes, time expressions, quantities, monetary values, percentages, etc. (Ref: Wikipedia)\n",
    "\n",
    "In this exercise we'll use a state-of-the-art text processing and NLP library called Spacy. You can tinker around with the text inputs, although you'll find that it works better on sentences where there are specific organizations, locations, names, etc. "
   ]
  },
  {
   "cell_type": "code",
   "execution_count": null,
   "metadata": {},
   "outputs": [],
   "source": [
    "# Install these in binder \n",
    "\n",
    "! pip install -U pip setuptools wheel\n",
    "! pip install -U spacy\n",
    "! python -m spacy download en_core_web_sm"
   ]
  },
  {
   "cell_type": "code",
   "execution_count": null,
   "metadata": {},
   "outputs": [],
   "source": [
    "import spacy\n",
    "from spacy import displacy"
   ]
  },
  {
   "cell_type": "code",
   "execution_count": null,
   "metadata": {},
   "outputs": [],
   "source": [
    "nlp = spacy.load('en_core_web_sm')"
   ]
  },
  {
   "cell_type": "code",
   "execution_count": null,
   "metadata": {},
   "outputs": [],
   "source": [
    "text1 = \"When Sebastian Thrun started working on self-driving cars at Google in 2007, few people outside of the company took him seriously.\"\n",
    "\n",
    "doc1 = nlp(text1)\n",
    "displacy.render(doc1, style=\"ent\", jupyter=True)"
   ]
  },
  {
   "cell_type": "code",
   "execution_count": null,
   "metadata": {},
   "outputs": [],
   "source": [
    "text2 = \"Ben Solo was a human male Force-sensitive who fell to the dark side of the Force as Kylo Ren, master of the Knights of Ren and eventual Supreme Leader of the First Order, but returned to the light side shortly before his death. \"\n",
    "\n",
    "doc2 = nlp(text2)\n",
    "displacy.render(doc2, style=\"ent\", jupyter=True)"
   ]
  },
  {
   "cell_type": "code",
   "execution_count": null,
   "metadata": {},
   "outputs": [],
   "source": [
    "text3 = \"Hwang had conceived of the idea based on his own economic struggles early in life as well as the class disparity in South Korea and capitalism.\"\n",
    "\n",
    "doc3 = nlp(text3)\n",
    "displacy.render(doc3, style=\"ent\", jupyter=True)"
   ]
  },
  {
   "cell_type": "markdown",
   "metadata": {},
   "source": [
    "# Part 4 Create a  Speech Service\n",
    "The Microsoft Cognitive Services include the Bing Speech service, that can interpret spoken input from a microphone or audio file. Follow these steps to provision the Bing speech service:\n",
    "\n",
    "1. Open another browser tab and navigate to https://portal.azure.com.\n",
    "2. Sign in using your Microsoft account.\n",
    "3. Click **+ Create a resource**, and search for \"**Speech**\".\n",
    "4. In the list of services, click ** Speech**.\n",
    "5. In the **Bing Speech** blade, click **Create**.\n",
    "6. In the **Create** blade, enter the following details, and then click **Create**\n",
    "  * **Name**: A unique name for your service.\n",
    "  * **Subscription**: Azure for Students or Microsoft Azure Sponsorship\n",
    "  * **Location**: **<u><font color=#ff0000>(US) South Central US</font></u>** **(If you do not select this location your code WILL NOT WORK!)**\n",
    "  * **Pricing tier**: Choose the Free F0 or Standard S0 pricing tier.\n",
    "  * **Resource Group**: Choose the existing resource group you used previously.\n",
    "7. Wait for the service to be created.\n",
    "8. When deployment is complete, click **Go to resource**.\n",
    "10. In the blade for your Speech service, click **Keys and Endpoint** and then copy **Key 1** to the clipboard and paste it into the **speechKey** variable assignment value in the cell below. \n",
    "11. Click the Run button to run the cell below that assigns the variable speechKey."
   ]
  },
  {
   "cell_type": "code",
   "execution_count": null,
   "metadata": {
    "tags": []
   },
   "outputs": [],
   "source": [
    "speechKey = 'YOUR_KEY_1'"
   ]
  },
  {
   "cell_type": "markdown",
   "metadata": {},
   "source": [
    "#### Get the audio input\n",
    "We'll use a WAV file of captured audio containing the speech we want to transcribe"
   ]
  },
  {
   "cell_type": "code",
   "execution_count": null,
   "metadata": {},
   "outputs": [],
   "source": [
    "import IPython\n",
    "\n",
    "try:\n",
    "    speechKey\n",
    "except:\n",
    "    print(\"Make sure you run the code cell above that assigns the speechKey variable! Then run this cell again.\")\n",
    "    \n",
    "IPython.display.Audio('RainSpain.wav', autoplay=True)"
   ]
  },
  {
   "cell_type": "markdown",
   "metadata": {
    "tags": []
   },
   "source": [
    "#### Convert speech to text"
   ]
  },
  {
   "cell_type": "code",
   "execution_count": null,
   "metadata": {},
   "outputs": [],
   "source": [
    "import IPython\n",
    "import requests, json\n",
    "\n",
    "speech_region = \"SouthCentralUS\"\n",
    "\n",
    "with open(\"RainSpain.wav\", mode=\"rb\") as audio_file:\n",
    "        audio_data =  audio_file.read()\n",
    "        \n",
    "# The Speech API requires an access token (valid for 10 mins)\n",
    "apiEndPoint = \"https://\" + speech_region + \".api.cognitive.microsoft.com/sts/v1.0/issueToken\"\n",
    "apiKey = speechKey\n",
    "headers = {\"Ocp-Apim-Subscription-Key\": apiKey}\n",
    "\n",
    "# Use the API key to request an access token\n",
    "response = requests.post(apiEndPoint, headers=headers)\n",
    "accesstoken = str(response.text)\n",
    "\n",
    "# Now that we have a token, we can set up the request\n",
    "speechToTextEndPoint = \"https://\" + speech_region + \".stt.speech.microsoft.com/speech/recognition/conversation/cognitiveservices/v1\"\n",
    "headers = {\"Content-type\": \"audio/wav; codec=audio/pcm; samplerate=16000\", \n",
    "           \"Authorization\": \"Bearer \" + accesstoken}\n",
    "params = {\"language\":\"en-US\"}\n",
    "body = audio_data\n",
    "\n",
    "# Connect to server, post the request, and get the result\n",
    "response = requests.post(speechToTextEndPoint,data=body, params=params, headers=headers)\n",
    "result = str(response.text)\n",
    "print(json.loads(result)['DisplayText'])"
   ]
  },
  {
   "cell_type": "markdown",
   "metadata": {
    "tags": []
   },
   "source": [
    "# Part 5 - NLP Algorithms using Google Colaboratory \n",
    "\n",
    "In these next exercises, you can use Google Colaboratory Notebooks online. Each Google Colaboratory (\"Colab\") notebook is its own virtual environment which can be run effortlessly in your browser. What you will do is click the link for `Open Google Colab Notebook` which will take you to the notebook located outside of Binder, somewhere on the internet. No installation on your computer is required. \n",
    "\n",
    "Each Google Colab notebook has been authored by different people over the years, and as such, are custom. We tried to select notebooks where the code is minimal and/or the explanations can be easily read. Don't get discouraged if some of the code and content is too complicated. Simply click each cell and wait for it to run. Be patient and don't click ahead."
   ]
  },
  {
   "cell_type": "markdown",
   "metadata": {
    "tags": []
   },
   "source": [
    "## Tips: \n",
    "You may come across these messages. Here are the ways you can solve them."
   ]
  },
  {
   "cell_type": "markdown",
   "metadata": {},
   "source": [
    "**Run anyway**. You will see a pop-up that reads `Warning: This notebook was not authored by Google`. Click `Run anyway`.\n",
    "\n",
    "<img src=./img/runanyway.png>"
   ]
  },
  {
   "cell_type": "markdown",
   "metadata": {},
   "source": [
    "**Change your runtime to GPU**. Google Colab offers free use of Tesla K80 GPUs. Go to the toolbar and select `Runtime` -> `Change Runtime Type`. Select `GPU` in the drop-down under `Hardware accelerator`.\n",
    "\n",
    "<img src=./img/gpu.png>"
   ]
  },
  {
   "cell_type": "markdown",
   "metadata": {},
   "source": [
    "**Too many sessions**. This means you have too many Google Colab notebooks running at the same time. Due to restricted, free, compute, you should only run one notebook (session at a time. \n",
    "\n",
    "<img src=./img/sessions.png>\n",
    "\n",
    "Click `Manage Sessions`. You can see in your Active Sessions all the notebooks you are simultaneously running. Click `TERMINATE` for all of them. Now `Close` and it returns you to your notebook. Click the last cell you left off at.\n",
    "\n",
    "<img src=./img/terminate.png>"
   ]
  },
  {
   "cell_type": "markdown",
   "metadata": {
    "tags": []
   },
   "source": [
    "## Binary Text Classification for Sentiment Prediction\n",
    "\n",
    "A classic example of text classification is to use the IMDB Movie Review dataset which consists of 25,000 examples in the training set. You'll get to train a sequence2sequence model for 10 epochs. You'll also get to see some of the preprocessing you completed above in action used in the notebook like vectorization. Your model should be close to 87% accurate for sentiment prediction. There's alot of extra content in the cells. Feel free to read each if you like, since some of the cells include evaluating the model for accurate it is and visualizing the accuracy and loss per epoch you trained.\n",
    "\n",
    "<a href=\"https://colab.research.google.com/github/tensorflow/docs/blob/master/site/en/tutorials/keras/text_classification.ipynb#scrollTo=QW355HH5L49K\">Open Google Colab Notebok</a>\n",
    "\n",
    "An example of the data is this review: \n",
    "\n",
    "> \"Rachel Griffiths writes and directs this award winning short film. A heartwarming story about coping with grief and cherishing the memory of those we've loved and lost. Although, only 15 minutes long, Griffiths manages to capture so much emotion and truth onto film in the short space of time. Bud Tingwell gives a touching performance as Will, a widower struggling to cope with his wife's death. Will is confronted by the harsh reality of loneliness and helplessness as he proceeds to take care of Ruth's pet cow, Tulip. The film displays the grief and responsibility one feels for those they have loved and lost. Good cinematography, great direction, and superbly acted. It will bring tears to all those who have lost a loved one, and survived.\"\n",
    "\n",
    "After training the model, you'll be able to enter some test sentences. The predicted outputs will be probabilities of how positive they are, such as 61.4% positive, 43.6% positive, or 35.3% positive.\n",
    "\n",
    "<img src=./img/predictions.png>\n",
    "\n"
   ]
  },
  {
   "cell_type": "markdown",
   "metadata": {},
   "source": [
    "# Nice work!\n",
    "\n",
    "In this lab, you saw how to use many different Azure tools to process text and speech. There are so many applications you can create by combining these different tools. Brainstorm a few ideas you could build for the final project!"
   ]
  },
  {
   "cell_type": "markdown",
   "metadata": {},
   "source": [
    "---\n",
    "\n",
    "# Optional Post Camp Notebooks (Move on to the Final Project NOW!) \n",
    "\n",
    "### Text-to-Speech Transformer Model (Optional)\n",
    "This notebook conducts audio synthesis based on text input, using two types of algorithms: a Forward Transformer TTS and a WaveRNN Vocoder. Transformers are a special type of algorithm that are used for state-of-the-art NLP tasks today. This notebook loads pre-trained models that have been trained on extrenmely large datasets of language. Installing packages may take between 2 - 5 minutes to complete. After installation, all cells should run quickly. \n",
    "\n",
    "<a href=\"https://colab.research.google.com/github/as-ideas/TransformerTTS/blob/master/notebooks/synthesize_forward_wavernn.ipynb#scrollTo=zdMgfG7GMF_R\"> Open Google Colab Notebook </a>\n",
    "\n",
    "Under `Synthesize text`, try entering your own custom sentence: \n",
    "`sentence = 'Scientists at the CERN laboratory, say they have discovered a new particle.'`"
   ]
  },
  {
   "cell_type": "markdown",
   "metadata": {},
   "source": [
    "### Question and Answering in Multiple Languages using BERT (Optional)\n",
    "BERT is a state-of-the-art language model. This notebook uses a pre-trained BERT model fine-tuned on multilingual Question and Answer data (Spanish, Russian, German, Hindi, Chinese). \n",
    "\n",
    "In each cell you will find the `context` of the question that is about to be asked. The `question` based on the `context` is then presented to the model. The BERT model then answers the question. In the last cell, you can create your own `context` and `question`. For example, my `context` was: \"The working hours of a normal person is 9 to 5\" / `question`: What are normal working hours? \n",
    "\n",
    "Try it out with another student in your class who might speak one of these languages. Ask them to enter a `context` and `question`.\n",
    "\n",
    "<a href=\"https://colab.research.google.com/github/mrm8488/shared_colab_notebooks/blob/master/Try_mrm8488_xquad_finetuned_model.ipynb#scrollTo=WGA6yPiFe-JW\">Open Google Colab Notebook</a>"
   ]
  },
  {
   "cell_type": "markdown",
   "metadata": {},
   "source": [
    "### DialoGPT Chatbot (Optional) \n",
    "\n",
    "A transformer language model that was trained on 147M Reddit comment chains. You can create a chat bot in just 10 lines of code. \n",
    "\n",
    "<img src=./img/dialogpt.png>\n",
    "\n",
    "<a href=\"https://colab.research.google.com/drive/1uib2-bxqYKR3lRdEmOh_MaWBGrMrPOUL#scrollTo=tDYhaGQJdJDr\">Open Google Colab Notebook</a>"
   ]
  },
  {
   "cell_type": "markdown",
   "metadata": {},
   "source": [
    "### Sentiment Analysis in Spanish (Optional)\n",
    "\n",
    "<a href=\"https://colab.research.google.com/drive/1ItS0-ZPXGcEeVmRmHaneX3w8eq6Vhdde?usp=sharing&fbclid=IwAR0z7XXLyy3KCJva9d-7zIXEYAZ8GK-9kXz4_hd_U_gfnu6-SoizgexOpXE#scrollTo=i7V1mxieDHII\"> Open Google Colab Notebook</a>"
   ]
  },
  {
   "cell_type": "markdown",
   "metadata": {},
   "source": [
    "### AI Generated Art using VQGAN + CLIP (Optional) \n",
    "\n",
    "**Note - this notebook takes a very long time to run since it is training a generative model.** It can take 25 minutes to generate images for 400 training iterations. \n",
    "\n",
    "Example Prompt: **\"sunny skies with girls on roller skates\"**\n",
    "\n",
    "<img src=./img/sunnygirl.png>\n",
    "\n",
    "A very user-friendly notebook that is self-explanatory and fun. Enter a prompt encoded by the CLIP algorithm and generate an image through VQGAN. Note, the setup and installation of libraries will take up to 5 minutes. Be patient!\n",
    "\n",
    "<a href=\"https://colab.research.google.com/drive/1n_xrgKDlGQcCF6O-eL3NOd_x4NSqAUjK#scrollTo=wSfISAhyPmyp\">Open Google Colab Notebook</a>"
   ]
  }
 ],
 "metadata": {
  "kernelspec": {
   "display_name": "Python 3",
   "language": "python",
   "name": "python3"
  },
  "language_info": {
   "codemirror_mode": {
    "name": "ipython",
    "version": 3
   },
   "file_extension": ".py",
   "mimetype": "text/x-python",
   "name": "python",
   "nbconvert_exporter": "python",
   "pygments_lexer": "ipython3",
   "version": "3.7.6"
  }
 },
 "nbformat": 4,
 "nbformat_minor": 4
}
