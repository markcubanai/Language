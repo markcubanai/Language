{
 "cells": [
  {
   "cell_type": "markdown",
   "metadata": {},
   "source": [
    "# Introduction to AI\n",
    "## Text and Speech Demos\n"
   ]
  },
  {
   "cell_type": "markdown",
   "metadata": {},
   "source": [
    "## Performing Basic Frequency Analysis\n",
    "Let's start by using some very basic frequency analysis on a document to see if we can determine what the document is about  based on word frequency.\n",
    "\n",
    "### Load a Text Document\n",
    "Run the cell below to load the transcript of a Shark Tank pitch."
   ]
  },
  {
   "cell_type": "code",
   "execution_count": null,
   "metadata": {},
   "outputs": [],
   "source": [
    "# Open a Shark Tank pitch by Pick-up Pools\n",
    "doc1 = open(\"SharkTank.txt\", \"r\")\n",
    "\n",
    "# Read the document and print its contents\n",
    "doc1Txt = doc1.read()\n",
    "print(doc1Txt)"
   ]
  },
  {
   "cell_type": "markdown",
   "metadata": {},
   "source": [
    "#### Normalize the Text\n",
    "\n",
    "Text includes a lot of punctuation, which we need to remove if we want to work only with the actual words.\n",
    "\n",
    "Run the cell below to strip all the punctuation from the text and convert the words to lower case."
   ]
  },
  {
   "cell_type": "code",
   "execution_count": null,
   "metadata": {},
   "outputs": [],
   "source": [
    "from string import punctuation\n",
    "\n",
    "# remove numeric digits\n",
    "txt = ''.join(c for c in doc1Txt if not c.isdigit())\n",
    "\n",
    "# remove punctuation and make lower case\n",
    "txt = ''.join(c for c in txt if c not in punctuation).lower()\n",
    "\n",
    "# print the normalized text\n",
    "print (txt)"
   ]
  },
  {
   "cell_type": "markdown",
   "metadata": {},
   "source": [
    "#### Get the Frequency Distribution\n",
    "Now let's tokenize the text (split it into individual words), and count the number of times each word occurs."
   ]
  },
  {
   "cell_type": "code",
   "execution_count": null,
   "metadata": {},
   "outputs": [],
   "source": [
    "import nltk\n",
    "import pandas as pd\n",
    "from nltk.probability import FreqDist\n",
    "nltk.download(\"punkt\")\n",
    "\n",
    "# Tokenize the text into individual words\n",
    "words = nltk.tokenize.word_tokenize(txt)\n",
    "\n",
    "# Get the frequency distribution of the words into a data frame\n",
    "fdist = FreqDist(words)\n",
    "count_frame = pd.DataFrame(fdist, index =[0]).T\n",
    "count_frame.columns = ['Count']\n",
    "print (count_frame)"
   ]
  },
  {
   "cell_type": "markdown",
   "metadata": {},
   "source": [
    "#### Visualize Word Frequency\n",
    "It's often easier to analyze frequency by creating a visualization, such as a Pareto chart."
   ]
  },
  {
   "cell_type": "code",
   "execution_count": null,
   "metadata": {},
   "outputs": [],
   "source": [
    "%matplotlib inline\n",
    "import matplotlib.pyplot as plt\n",
    "\n",
    "# Sort the data frame by frequency\n",
    "counts = count_frame.sort_values('Count', ascending = False)\n",
    "\n",
    "# Display the top 60 words as a bar plot\n",
    "fig = plt.figure(figsize=(16, 9))\n",
    "ax = fig.gca()    \n",
    "counts['Count'][:60].plot(kind = 'bar', ax = ax)\n",
    "ax.set_title('Frequency of the most common words')\n",
    "ax.set_ylabel('Frequency of word')\n",
    "ax.set_xlabel('Word')\n",
    "plt.show()"
   ]
  },
  {
   "cell_type": "markdown",
   "metadata": {},
   "source": [
    "#### Remove stop words\n",
    "\n",
    "A large number of the words in the text are common words like \"the\" or \"and\". These \"stopwords\" add little in the way of semantic meaning to the text, and won't help us determine the subject matter - so run the cell below to remove them."
   ]
  },
  {
   "cell_type": "code",
   "execution_count": null,
   "metadata": {},
   "outputs": [],
   "source": [
    "# Get standard stop words from NLTK\n",
    "nltk.download(\"stopwords\")\n",
    "from nltk.corpus import stopwords\n",
    "\n",
    "# Filter out the stop words\n",
    "txt = ' '.join([word for word in txt.split() if word not in (stopwords.words('english'))])\n",
    "\n",
    "# Get the frequency distribution of the remaining words\n",
    "words = nltk.tokenize.word_tokenize(txt)\n",
    "fdist = FreqDist(words)\n",
    "count_frame = pd.DataFrame(fdist, index =[0]).T\n",
    "count_frame.columns = ['Count']\n",
    "\n",
    "# Plot the frequency of the top 60 words\n",
    "counts = count_frame.sort_values('Count', ascending = False)\n",
    "fig = plt.figure(figsize=(16, 9))\n",
    "ax = fig.gca()    \n",
    "counts['Count'][:60].plot(kind = 'bar', ax = ax)\n",
    "ax.set_title('Frequency of the most common words')\n",
    "ax.set_ylabel('Frequency of word')\n",
    "ax.set_xlabel('Word')\n",
    "plt.show()"
   ]
  },
  {
   "cell_type": "markdown",
   "metadata": {},
   "source": [
    "\n",
    "\n",
    "### Visualize the Frequency Distribution for the Remaining Words\n",
    "Now that we've prepared the text, we can tokenize the string into a list of individual words, and then perform frequency analysis on those words based on how often they appear in the text."
   ]
  },
  {
   "cell_type": "code",
   "execution_count": null,
   "metadata": {
    "scrolled": false
   },
   "outputs": [],
   "source": [
    "# remind ourselves of the first document\n",
    "print(\"------------------------------------------------\")\n",
    "print(\"Shark Tank Pick-up Pools Pitch\")\n",
    "print(\"------------------------------------------------\")\n",
    "print(doc1Txt)\n",
    "print(\"------------------------------------------------\")\n",
    "\n",
    "# Load the movie script of the opening scene for Spider-Man: Into the Spider-Verse\n",
    "doc2 = open(\"Spiderman.txt\", \"r\")\n",
    "doc2Txt = doc2.read()\n",
    "print(\"Spider-Man: Into the Spider-Verse\")\n",
    "print(\"------------------------------------------------\")\n",
    "print (doc2Txt)\n",
    "from string import punctuation\n",
    "txt2 = ''.join(c for c in doc2Txt if not c.isdigit())\n",
    "txt2 = ''.join(c for c in txt2 if c not in punctuation).lower()\n",
    "txt2 = ' '.join([word for word in txt2.split() if word not in (stopwords.words('english'))])\n",
    "\n",
    "\n",
    "# Load the play-by-play transcript of the Dallas Mavericks' Luka Doncic hitting a three pointer at the buzzer to win Game 4 of the NBA Playoffs against the Clippers\n",
    "print(\"------------------------------------------------\")\n",
    "print(\"NBA Playoffs Luka Doncic Game Winner - Play by Play\")\n",
    "print(\"------------------------------------------------\")\n",
    "doc3 = open(\"PlayByPlay.txt\", \"r\")\n",
    "doc3Txt = doc3.read()\n",
    "print (doc3Txt)\n",
    "from string import punctuation\n",
    "txt3 = ''.join(c for c in doc3Txt if not c.isdigit())\n",
    "txt3 = ''.join(c for c in txt3 if c not in punctuation).lower()\n",
    "txt3 = ' '.join([word for word in txt3.split() if word not in (stopwords.words('english'))])\n"
   ]
  },
  {
   "cell_type": "markdown",
   "metadata": {},
   "source": [
    "#### Get TF-IDF Values for the top three words in each document\n",
    "\n",
    "In the previous example, we've used basic term frequency to determine each word's \"importance\" based on how often it appears in the document. When dealing with a large corpus of multiple documents, a more commonly used technique is *term frequency, inverse document frequency* (or TF-IDF) in which a score is calculated based on how often a word or term appears in one document compared to its more general frequency across the entire collection of documents. Using this technique, a high degree of relevance is assumed for words that appear frequently in a particular document, but relatively infrequently across a wide range of other documents."
   ]
  },
  {
   "cell_type": "code",
   "execution_count": null,
   "metadata": {},
   "outputs": [],
   "source": [
    "# install textblob library and define functions for TF-IDF\n",
    "!pip install -U textblob==0.10.0\n",
    "import math\n",
    "from textblob import TextBlob as tb\n",
    "\n",
    "def tf(word, doc):\n",
    "    return doc.words.count(word) / len(doc.words)\n",
    "\n",
    "def contains(word, docs):\n",
    "    return sum(1 for doc in docs if word in doc.words)\n",
    "\n",
    "def idf(word, docs):\n",
    "    return math.log(len(docs) / (1 + contains(word, docs)))\n",
    "\n",
    "def tfidf(word, doc, docs):\n",
    "    return tf(word,doc) * idf(word, docs)\n",
    "\n",
    "\n",
    "# Create a collection of documents as textblobs\n",
    "doc1 = tb(txt)\n",
    "doc2 = tb(txt2)\n",
    "doc3 = tb(txt3)\n",
    "docs = [doc1, doc2, doc3]\n",
    "\n",
    "# Use TF-IDF to get the three most important words from each document\n",
    "print('-----------------------------------------------------------')\n",
    "for i, doc in enumerate(docs):\n",
    "    print(\"Top words in document {}\".format(i + 1))\n",
    "    scores = {word: tfidf(word, doc, docs) for word in doc.words}\n",
    "    sorted_words = sorted(scores.items(), key=lambda x: x[1], reverse=True)\n",
    "    for word, score in sorted_words[:3]:\n",
    "        print(\"\\tWord: {}, TF-IDF: {}\".format(word, round(score, 5)))\n"
   ]
  },
  {
   "cell_type": "markdown",
   "metadata": {},
   "source": [
    "### Stemming\n",
    "\n",
    "#### View frequency of unstemmed words from Kennedy's inauguration speech"
   ]
  },
  {
   "cell_type": "code",
   "execution_count": null,
   "metadata": {
    "scrolled": false
   },
   "outputs": [],
   "source": [
    "# Load and print the lyrics to the song \"Someone You Loved\" by Lewis Capaldi\n",
    "doc4 = open(\"SomeoneYouLoved.txt\", \"r\")\n",
    "doc4Txt = doc4.read()\n",
    "\n",
    "print(\"------------------------------------------------\")\n",
    "print(\"Lyrics to 'Someone You Loved' by Lewis Capaldi\")\n",
    "print(\"------------------------------------------------\")\n",
    "print(doc4Txt)\n",
    "\n",
    "# Normalize and remove stop words\n",
    "from string import punctuation\n",
    "doc4Txt = ''.join(c for c in doc4Txt if not c.isdigit())\n",
    "doc4Txt = ''.join(c for c in doc4Txt if c not in punctuation).lower()\n",
    "doc4Txt = ' '.join([word for word in doc4Txt.split() if word not in (stopwords.words('english'))])\n",
    "\n",
    "# Get Frequency distribution\n",
    "words = nltk.tokenize.word_tokenize(doc4Txt)\n",
    "fdist = FreqDist(words)\n",
    "count_frame = pd.DataFrame(fdist, index =[0]).T\n",
    "count_frame.columns = ['Count']\n",
    "\n",
    "# Plot frequency\n",
    "counts = count_frame.sort_values('Count', ascending = False)\n",
    "fig = plt.figure(figsize=(16, 9))\n",
    "ax = fig.gca()    \n",
    "counts['Count'][:60].plot(kind = 'bar', ax = ax)\n",
    "ax.set_title('Frequency of the most common words')\n",
    "ax.set_ylabel('Frequency of word')\n",
    "ax.set_xlabel('Word')\n",
    "plt.show()"
   ]
  },
  {
   "cell_type": "markdown",
   "metadata": {},
   "source": [
    "#### Stem the words using the Porter stemmer"
   ]
  },
  {
   "cell_type": "code",
   "execution_count": null,
   "metadata": {},
   "outputs": [],
   "source": [
    "from nltk.stem.porter import PorterStemmer\n",
    "\n",
    "# Get the word stems\n",
    "ps = PorterStemmer()\n",
    "stems = [ps.stem(word) for word in words]\n",
    "\n",
    "# Get Frequency distribution\n",
    "fdist = FreqDist(stems)\n",
    "count_frame = pd.DataFrame(fdist, index =[0]).T\n",
    "count_frame.columns = ['Count']\n",
    "\n",
    "# Plot frequency\n",
    "counts = count_frame.sort_values('Count', ascending = False)\n",
    "fig = plt.figure(figsize=(16, 9))\n",
    "ax = fig.gca()    \n",
    "counts['Count'][:60].plot(kind = 'bar', ax = ax)\n",
    "ax.set_title('Frequency of the most common words')\n",
    "ax.set_ylabel('Frequency of word')\n",
    "ax.set_xlabel('Word')\n",
    "plt.show()"
   ]
  },
  {
   "cell_type": "markdown",
   "metadata": {},
   "source": [
    "### Text Analytics\n",
    "#### Create a Text Analytics service in Azure\n",
    "\n",
    "## Using the Text Analytics Cognitive Service\n",
    "The previous examples demonstrate some ways to write code and analyze text, and they serve to illustrate that text analytics involves applying statistical techniques to text data in order to discern semantic meaning. This is a common theme in many AI solutions.\n",
    "\n",
    "Microsoft Cognitive Services includes a Text Analytics service that encapsulates much more sophisticated techniques for ascertaining meaning from text."
   ]
  },
  {
   "cell_type": "markdown",
   "metadata": {},
   "source": [
    "### Create a Text Analytics Service\n",
    "To see this in action, you need to provision a Text Analytics service in your Azure subscription. Follow these steps to do that:\n",
    "\n",
    "1. Open another browser tab and navigate to https://portal.azure.com.\n",
    "2. Sign in using your Microsoft account.\n",
    "3. Click **+ Create a resource**, and search for \"**Text Analytics**\".\n",
    "4. In the list of services, click **Text Analytics**.\n",
    "5. In the **Text Analytics API** blade, click **Create**.\n",
    "6. In the **Create** blade, enter the following details, and then click **Create**\n",
    "  * **Name**: A unique name for your service.\n",
    "  * **Subscription**: Azure for Students\n",
    "  * **Location**: (US) South Central US\n",
    "  * **Pricing tier**: Choose the F0 pricing tier.\n",
    "  * **Resource Group**: Choose the existing resource group you created in the previous lab (or create a new one if you didn't complete the previous lab by clicking **Create new** and entering a unique name)\n",
    "7. Wait for the service to be created.\n",
    "8. When deployment is complete, click **Go to resource**.\n",
    "9. In the blade for your Text Analytics service, click **Keys and Endpoint** and then copy **Key 1** to the clipboard and paste it into the **textKey** variable assignment value in the cell below. \n",
    "10. Click the **Run** button to run the cell below that assigns the variable textKey."
   ]
  },
  {
   "cell_type": "code",
   "execution_count": null,
   "metadata": {},
   "outputs": [],
   "source": [
    "textKey = 'YOUR_KEY_1'"
   ]
  },
  {
   "cell_type": "markdown",
   "metadata": {},
   "source": [
    "#### Analyze the Shark Tank Pitch and Game-Winner Play-By-Play"
   ]
  },
  {
   "cell_type": "code",
   "execution_count": null,
   "metadata": {},
   "outputs": [],
   "source": [
    "try:\n",
    "    textAnalyticsURI = 'SouthCentralUS.api.cognitive.microsoft.com'\n",
    "\n",
    "    import http.client, urllib.request, urllib.parse, urllib.error, base64, json, urllib\n",
    "\n",
    "    # Define the request headers.\n",
    "    headers = {\n",
    "        'Content-Type': 'application/json',\n",
    "        'Ocp-Apim-Subscription-Key': textKey,\n",
    "        'Accept': 'application/json'\n",
    "    }\n",
    "\n",
    "    # Define the parameters\n",
    "    params = urllib.parse.urlencode({\n",
    "    })\n",
    "\n",
    "    # Define the request body\n",
    "    body = {\n",
    "      \"documents\": [\n",
    "        {\n",
    "            \"language\": \"en\",\n",
    "            \"id\": \"1\",\n",
    "            \"text\": doc1Txt\n",
    "        },\n",
    "        {\n",
    "            \"language\": \"en\",\n",
    "            \"id\": \"2\",\n",
    "            \"text\": doc3Txt\n",
    "        }\n",
    "      ]\n",
    "    }\n",
    "\n",
    "    try:\n",
    "        # Execute the REST API call and get the response.\n",
    "        conn = http.client.HTTPSConnection(textAnalyticsURI)\n",
    "        conn.request(\"POST\", \"/text/analytics/v2.0/keyPhrases?%s\" % params, str(body), headers)\n",
    "        response = conn.getresponse()\n",
    "        data = response.read().decode(\"UTF-8\")\n",
    "\n",
    "        # 'data' contains the JSON response, which includes a collection of documents.\n",
    "        parsed = json.loads(data)\n",
    "        for document in parsed['documents']:\n",
    "            print(\"Document \" + document[\"id\"] + \" key phrases:\")\n",
    "            for phrase in document['keyPhrases']:\n",
    "                print(\"  \" + phrase)\n",
    "            print(\"---------------------------\")\n",
    "        conn.close()\n",
    "\n",
    "    except Exception as e:\n",
    "        print('Error:')\n",
    "        print(e)\n",
    "except:\n",
    "    print(\"Make sure you run the code cell above that assigns the textKey variable! Then run this cell again.\")"
   ]
  },
  {
   "cell_type": "markdown",
   "metadata": {},
   "source": [
    "From these key phrases, it's reasonably clear that the first document is about freedom and nationhood, while the second is about software services for AI.\n",
    "\n",
    "### Perform Sentiment Analysis\n",
    "Another common AI requirement is to determine the sentiment associated with some text. For example, you might analyze tweets that include your organization's twitter handle to determine if they are positive or negative.\n",
    "\n",
    "Run the cell below to use the **sentiment** method of the Text Analytics service to discern the sentiment of two sentences."
   ]
  },
  {
   "cell_type": "code",
   "execution_count": null,
   "metadata": {},
   "outputs": [],
   "source": [
    "body = {\n",
    "  \"documents\": [\n",
    "    {\n",
    "      \"language\": \"en\",\n",
    "      \"id\": \"1\",\n",
    "      \"text\": \"Wow! cognitive services are fantastic.\"\n",
    "    },\n",
    "    {\n",
    "      \"language\": \"en\",\n",
    "      \"id\": \"2\",\n",
    "      \"text\": \"I hate it when computers don't understand me.\"\n",
    "    }\n",
    "  ]\n",
    "}\n",
    "\n",
    "\n",
    "try:\n",
    "    conn = http.client.HTTPSConnection(textAnalyticsURI)\n",
    "    conn.request(\"POST\", \"/text/analytics/v2.0/sentiment?%s\" % params, str(body), headers)\n",
    "    response = conn.getresponse()\n",
    "    data = response.read().decode(\"UTF-8\")\n",
    "    parsed = json.loads(data)\n",
    "    \n",
    "    # Get the numeric score for each document\n",
    "    for document in parsed['documents']:\n",
    "        sentiment = \"negative\"\n",
    "        \n",
    "        # if it's more than 0.5, consider the sentiment to be positive.\n",
    "        if document[\"score\"] >= 0.5:\n",
    "            sentiment = \"positive\"\n",
    "        print(\"Document:\" + document[\"id\"] + \" = \" + sentiment)\n",
    "    conn.close()\n",
    "    \n",
    "except Exception as e:\n",
    "    print(\"[Errno {0}] {1}\".format(e.errno, e.strerror))\n",
    "\n"
   ]
  },
  {
   "cell_type": "markdown",
   "metadata": {},
   "source": [
    "### Create a  Speech Service\n",
    "The Microsoft Cognitive Services include the Bing Speech service, that can interpret spoken input from a microphone or audio file. Follow these steps to provision the Bing speech service:\n",
    "\n",
    "1. Open another browser tab and navigate to https://portal.azure.com.\n",
    "2. Sign in using your Microsoft account.\n",
    "3. Click **+ Create a resource**, and search for \"**Speech**\".\n",
    "4. In the list of services, click ** Speech**.\n",
    "5. In the **Bing Speech** blade, click **Create**.\n",
    "6. In the **Create** blade, enter the following details, and then click **Create**\n",
    "  * **Name**: A unique name for your service.\n",
    "  * **Subscription**: Azure for Students\n",
    "  * **Location**: (US) South Central US\n",
    "  * **Pricing tier**: Choose the F0 pricing tier.\n",
    "  * **Resource Group**: Choose the existing resource group you used previously.\n",
    "7. Wait for the service to be created.\n",
    "8. When deployment is complete, click **Go to resource**.\n",
    "10. In the blade for your Speech service, click **Keys and Endpoint** and then copy **Key 1** to the clipboard and paste it into the **speechKey** variable assignment value in the cell below. \n",
    "11. Click the Run button to run the cell below that assigns the variable speechKey."
   ]
  },
  {
   "cell_type": "code",
   "execution_count": null,
   "metadata": {},
   "outputs": [],
   "source": [
    "speechKey = 'YOUR_KEY_1'"
   ]
  },
  {
   "cell_type": "markdown",
   "metadata": {},
   "source": [
    "#### Get the audio input\n",
    "We'll use a WAV file of captured audio containing the speech we want to transcribe"
   ]
  },
  {
   "cell_type": "code",
   "execution_count": null,
   "metadata": {},
   "outputs": [],
   "source": [
    "import IPython\n",
    "\n",
    "try:\n",
    "    speechKey\n",
    "except:\n",
    "    print(\"Make sure you run the code cell above that assigns the speechKey variable! Then run this cell again.\")\n",
    "    \n",
    "IPython.display.Audio('RainSpain.wav', autoplay=True)"
   ]
  },
  {
   "cell_type": "markdown",
   "metadata": {},
   "source": [
    "#### Convert speech to text"
   ]
  },
  {
   "cell_type": "code",
   "execution_count": null,
   "metadata": {},
   "outputs": [],
   "source": [
    "import IPython\n",
    "import requests, json\n",
    "\n",
    "speech_region = \"SouthCentralUS\"\n",
    "\n",
    "with open(\"RainSpain.wav\", mode=\"rb\") as audio_file:\n",
    "        audio_data =  audio_file.read()\n",
    "        \n",
    "# The Speech API requires an access token (valid for 10 mins)\n",
    "apiEndPoint = \"https://\" + speech_region + \".api.cognitive.microsoft.com/sts/v1.0/issueToken\"\n",
    "apiKey = speechKey\n",
    "headers = {\"Ocp-Apim-Subscription-Key\": apiKey}\n",
    "\n",
    "# Use the API key to request an access token\n",
    "response = requests.post(apiEndPoint, headers=headers)\n",
    "accesstoken = str(response.text)\n",
    "\n",
    "# Now that we have a token, we can set up the request\n",
    "speechToTextEndPoint = \"https://\" + speech_region + \".stt.speech.microsoft.com/speech/recognition/conversation/cognitiveservices/v1\"\n",
    "headers = {\"Content-type\": \"audio/wav; codec=audio/pcm; samplerate=16000\", \n",
    "           \"Authorization\": \"Bearer \" + accesstoken}\n",
    "params = {\"language\":\"en-US\"}\n",
    "body = audio_data\n",
    "\n",
    "# Connect to server, post the request, and get the result\n",
    "response = requests.post(speechToTextEndPoint,data=body, params=params, headers=headers)\n",
    "result = str(response.text)\n",
    "print(json.loads(result)['DisplayText'])"
   ]
  },
  {
   "cell_type": "markdown",
   "metadata": {},
   "source": [
    "#### Convert text to speech"
   ]
  },
  {
   "cell_type": "code",
   "execution_count": null,
   "metadata": {},
   "outputs": [],
   "source": [
    "import IPython\n",
    "import requests, json\n",
    "from xml.etree import ElementTree\n",
    "\n",
    "# Get the input text\n",
    "myText = input('What would you like me to say?: \\n')\n",
    "        \n",
    "# The Speech API requires an access token (valid for 10 mins)\n",
    "apiEndPoint = \"https://\" + speech_region + \".api.cognitive.microsoft.com/sts/v1.0/issueToken\"\n",
    "apiKey = speechKey\n",
    "headers = {\"Ocp-Apim-Subscription-Key\": apiKey}\n",
    "\n",
    "# Use the API key to request an access token\n",
    "response = requests.post(apiEndPoint, headers=headers)\n",
    "accesstoken = str(response.text)\n",
    "\n",
    "# Now that we have a token, we can set up the request\n",
    "textToSpeechEndPoint = \"https://\" + speech_region + \".tts.speech.microsoft.com/cognitiveservices/v1\"\n",
    "headers = {\"Content-type\": \"application/ssml+xml\",\n",
    "           'X-Microsoft-OutputFormat': 'riff-16khz-16bit-mono-pcm',\n",
    "           'User-Agent': 'speech',\n",
    "           \"Authorization\": \"Bearer \" + accesstoken}\n",
    "\n",
    "# The request body is XML\n",
    "body = \"<speak version='1.0' xml:lang='en-US'>\\\n",
    "          <voice xml:lang='en-US'\\\n",
    "                 xml:gender='Female'\\\n",
    "                 name='Microsoft Server Speech Text to Speech Voice (en-US, ZiraRUS)'>\" + myText + \"</voice>\\\n",
    "        </speak>\"\n",
    "\n",
    "\n",
    "# Connect to server, post the request, and get the result\n",
    "response = requests.post(textToSpeechEndPoint,data=body, headers=headers)\n",
    "\n",
    "#Play the audio\n",
    "IPython.display.Audio(response.content, autoplay=True)"
   ]
  },
  {
   "cell_type": "markdown",
   "metadata": {
    "collapsed": true
   },
   "source": [
    "### Translation\n",
    "\n",
    "### Create a Translator Service\n",
    "The Microsoft Cognitive Services include the Translator service, that can translate text between different languages. Follow these steps to provision the Translator service:\n",
    "\n",
    "1. Open another browser tab and navigate to https://portal.azure.com.\n",
    "2. Sign in using your Microsoft account.\n",
    "3. Click **+ Create a resource**, and search for \"**Translator**\".\n",
    "4. In the list of services, click **Translator**.\n",
    "5. In the **Translator** blade, click **Create**.\n",
    "6. In the **Create** blade, enter the following details, and then click **Review + Create**\n",
    "  * **Subscription**: Azure for Students\n",
    "  * **Resource Group**: Choose the existing resource group you used previously.\n",
    "  * **Region**: Global\n",
    "  * **Name**: A unique name for your service.\n",
    "  * **Pricing tier**: Choose the F0 pricing tier.\n",
    "7. Click **Create**\n",
    "8. Wait for the service to be created.\n",
    "9. When deployment is complete, click **Go to resource**.\n",
    "10. In the blade for your Translator Text service, click **Keys and Endpoint** and then copy **Key 1** to the clipboard and paste it into the **transTextKey** variable assignment value in the cell below. \n",
    "11. Click the **Run** button to run the cell below that assigns the variable transTextKey.\n",
    "\n",
    "#### Get the service key"
   ]
  },
  {
   "cell_type": "code",
   "execution_count": null,
   "metadata": {},
   "outputs": [],
   "source": [
    "transTextKey = \"YOUR_KEY_1\""
   ]
  },
  {
   "cell_type": "markdown",
   "metadata": {},
   "source": [
    "#### Translate Text\n",
    "When asked to enter a language, note that you must enter the language code (i.e. \"en\" for English). Find all compatible language codes here: https://docs.microsoft.com/en-us/azure/cognitive-services/translator/language-support\n",
    "\n",
    "Sample Language Codes:\n",
    "\n",
    " * **English:** en\n",
    " * **Spanish:** es\n",
    " * **French:** fr\n",
    " * **German:** de\n",
    " * **Korean:** ko\n",
    "\n"
   ]
  },
  {
   "cell_type": "code",
   "execution_count": null,
   "metadata": {},
   "outputs": [],
   "source": [
    "try:\n",
    "    import requests, http.client, urllib.request, urllib.parse, urllib.error, base64, json, urllib\n",
    "    from xml.etree import ElementTree\n",
    "\n",
    "\n",
    "    textToTranslate = input('Please enter some text: \\n')\n",
    "    fromLangCode = input('What language is this? (Enter language code): \\n') \n",
    "    toLangCode = input('To what language would you like it translated? (Enter language code): \\n') \n",
    "\n",
    "    try:\n",
    "        # Connect to server to get the Access Token\n",
    "        apiKey = transTextKey\n",
    "        params = \"\"\n",
    "        headers = {\"Ocp-Apim-Subscription-Key\": apiKey}\n",
    "        AccessTokenHost = \"api.cognitive.microsoft.com\"\n",
    "        path = \"/sts/v1.0/issueToken\"\n",
    "\n",
    "        conn = http.client.HTTPSConnection(AccessTokenHost)\n",
    "        conn.request(\"POST\", path, params, headers)\n",
    "        response = conn.getresponse()\n",
    "        data = response.read()\n",
    "        conn.close()\n",
    "        accesstoken = \"Bearer \" + data.decode(\"UTF-8\")\n",
    "\n",
    "\n",
    "        # Define the request headers.\n",
    "        headers = {\n",
    "            'Authorization': accesstoken\n",
    "        }\n",
    "\n",
    "        # Define the parameters\n",
    "        params = urllib.parse.urlencode({\n",
    "            \"text\": textToTranslate,\n",
    "            \"to\": toLangCode,\n",
    "            \"from\": fromLangCode\n",
    "        })\n",
    "\n",
    "        # Execute the REST API call and get the response.\n",
    "        conn = http.client.HTTPSConnection(\"api.microsofttranslator.com\")\n",
    "        conn.request(\"GET\", \"/V2/Http.svc/Translate?%s\" % params, \"{body}\", headers)\n",
    "        response = conn.getresponse()\n",
    "        data = response.read()\n",
    "        translation = ElementTree.fromstring(data.decode(\"utf-8\"))\n",
    "        print (translation.text)\n",
    "\n",
    "        conn.close()\n",
    "\n",
    "    except Exception as e:\n",
    "        print(\"[Errno {0}] {1}\".format(e.errno, e.strerror))\n",
    "except:\n",
    "    print(\"Make sure you run the code cell above that assigns the transTextKey variable! Then run this cell again.\")"
   ]
  },
  {
   "cell_type": "markdown",
   "metadata": {},
   "source": [
    "## Using the Language Understanding Intelligence Service (LUIS)\n",
    "Increasingly, we expect computers to be able to use AI in order to understand spoken or typed commands in natural language. For example, we want to be able to say \"switch on the light\" or \"put the light on\", and have an AI-powered device understand the command and take appropriate action.\n",
    "\n",
    "### Provision the Language Understanding Intelligence Service (LUIS)\n",
    "The Microsoft cognitive services include the Language Understanding Intelligence Service (LUIS), which enables you to define *intents* that are applied to *entities* based on *utterances*.\n",
    "\n",
    "To get started with LUIS, follow these steps to provision the service in your Azure subscription:\n",
    "1. Open another browser tab and navigate to https://portal.azure.com.\n",
    "2. Sign in using your Microsoft account.\n",
    "3. Click **+ Create a resource**, and search for **Language Understanding**.\n",
    "4. In the list of services, click **Language Understanding**.\n",
    "5. In the **Language Understanding** blade, click **Create**.\n",
    "6. In the **Create** blade, enter the following details, and then click **Review + create**\n",
    "  * **Create Options**: Both\n",
    "  * **Subscription**: Azure for Students\n",
    "  * **Resource Group**: Choose the existing resource group you used previously.\n",
    "  * **Name**: A unique name for your service.\n",
    "  * **Authoring location**: Choose a location in the US.\n",
    "  * **Authoring pricing tier**: Choose the F0 pricing tier.\n",
    "  * **Prediction location**: Choose a location in the US.\n",
    "  * **Prediction pricing tier**: Choose the F0 pricing tier.\n",
    "7. Click **Create**\n",
    "8. Wait for the service to be created.\n",
    "\n",
    "### Create a LUIS App\n",
    "To implement natural language understanding with LUIS, you must first create an app; and then add intents, utterances, and entities to define the commands you want the app to understand.\n",
    "1. Open a new browser tab and navigate to https://www.luis.ai/.\n",
    "2. Sign in using the Microsoft account associated with your Azure subscription. If this is the first time you have signed into LUIS, you may need to grant the app some permissions to access your account details, and then fill in some information and accept the terms of use.\n",
    "3. If a message prompting you to complete a tutorial, close it (you can complete this tutorial later - for now, we'll focus on a simpler example).\n",
    "4. Click on **My apps** from the top menu bar.\n",
    "5. Click **+ New app for conversation**, select **+ New app for conversation** from the dropdown menu, and create a new app with the following settings:\n",
    "  * **Name**: Simple Home Automation\n",
    "  * **Culture**: English\n",
    "  * **Description**: A basic home automation example\n",
    "  * **Prediction Resource**: Choose the resource you created earlier in the Azure portal.\n",
    "6. Click **done**\n",
    "7. If an instructional window opens, close out of it.\n",
    "\n",
    "\n",
    "### Create Intents\n",
    "1. Click on the **Build** tab in the top menu.\n",
    "2. In the pane on the left, click **Intents**. Then click **+ Create**, and add an intent with the name **Light On**. Intents are **case sensitive** so enter the name exactly as it appears!\n",
    "3. In the field that says \"Type an example of what a user might say and hit Enter.\", type \"*switch the light on*\" and press **Enter** to add this utterance to the list.\n",
    "4. Next, hover your mouse over the word \"light\" in the newly created utterance so that the list shows the value *switch the [light] on*. Then click **[light]**,  type *Light*, and click **Create new entity** and create an entity named **Light** of type **Machine learned**.\n",
    "5. In the pane on the left, click **Intents** and click **+ Create**, to add a second intent with the name **Light Off**. Intents are **case sensitive** so enter the name exactly as it appears!\n",
    "6. In the field that says \"Type an example of what a user might say and hit Enter.\", type \"*switch the light off*\" and press **Enter** to add this utterance to the list.\n",
    "7. In the list of utterances, in the *switch the light off* utterance, hold the mouse over the word \"light\" so that the list shows the value *switch the [light] off*. Then click **[light]** and select the *Light* entity you created previously.\n",
    "\n",
    "### Train and Publish the Model\n",
    "1. At the top of the page, click **Train** to train the AI model.\n",
    "2. After the app has been trained, click **Test**, and then in the test pane, enter the following utterances and verify that for each utterance, the correct intent is predicted underneath the text bubble:\n",
    "    * *turn on the light* should predict **Light On**\n",
    "    * *put the light off* should predict **Light Off**\n",
    "3. At the top of the page, click **Publish**. Then ensure that the **Production slot** option is selected and click **Done**.\n",
    "4. Once the app has been published, click on the **Manage** tab at the top of the screen and then click **Azure Resources** from the menu on the left.\n",
    "\n",
    "### Consume the LUIS App\n",
    "Now that you have published your LUIS app, you can consume it from a client application by making HTTP requests that include a query string. The query will be used to identify the most likely intent, which will be returned to the calling client as in JSON response.\n",
    "\n",
    "Assign the **exampleQuery** variable in the cell below to reflect the Example Query for your app. Then **run the cell**, and enter a command when prompted to call your service and interpret the command. The JSON response is shown with an appropriate image for each command.\n",
    "\n",
    "Try the following commands:\n",
    "* *Switch on the light*\n",
    "* *Turn on the light*\n",
    "* *Turn off the light*\n",
    "* *Could you put the light on please?*"
   ]
  },
  {
   "cell_type": "code",
   "execution_count": null,
   "metadata": {},
   "outputs": [],
   "source": [
    "# Set up API configuration\n",
    "exampleQuery = \"YOUR_QUERY_HERE\""
   ]
  },
  {
   "cell_type": "code",
   "execution_count": null,
   "metadata": {},
   "outputs": [],
   "source": [
    "%matplotlib inline\n",
    "try:\n",
    "    from matplotlib.pyplot import imshow\n",
    "    from PIL import Image\n",
    "    import requests\n",
    "    from io import BytesIO\n",
    "    import json \n",
    "\n",
    "    # prompt for a command\n",
    "    command = input('Please enter a command: \\n')\n",
    "\n",
    "    # Call the LUIS service and get the JSON response\n",
    "    endpoint = exampleQuery + command.replace(\" \",\"+\")\n",
    "    response = requests.get(endpoint)\n",
    "    data = json.loads(response.content.decode(\"UTF-8\"))\n",
    "\n",
    "    # Identify the top scoring intent\n",
    "    intent = data[\"prediction\"][\"topIntent\"]\n",
    "    if (intent == \"Light On\"):\n",
    "        img_url = 'https://raw.githubusercontent.com/MicrosoftLearning/AI-Introduction/master/files/LightOn.jpg'\n",
    "    elif (intent == \"Light Off\"):\n",
    "        img_url = 'https://raw.githubusercontent.com/MicrosoftLearning/AI-Introduction/master/files/LightOff.jpg'\n",
    "    else:\n",
    "        img_url = 'https://raw.githubusercontent.com/MicrosoftLearning/AI-Introduction/master/files/Dunno.jpg'\n",
    "\n",
    "    # Get the appropriate image and show it\n",
    "    response = requests.get(img_url)\n",
    "    img = Image.open(BytesIO(response.content))\n",
    "    imshow(img)\n",
    "except:\n",
    "    print(\"Make sure you run the code cell above that assigns the exampleQuery variable! Then run this cell again.\")"
   ]
  },
  {
   "cell_type": "markdown",
   "metadata": {},
   "source": [
    "# Nice work!\n",
    "In this lab, you saw how to use many different Azure tools to process text and speech. There are so many applications you can create by combining these different tools. Brainstorm a few ideas you could build for the final project!"
   ]
  }
 ],
 "metadata": {
  "kernelspec": {
   "display_name": "Python 3",
   "language": "python",
   "name": "python3"
  },
  "language_info": {
   "codemirror_mode": {
    "name": "ipython",
    "version": 3
   },
   "file_extension": ".py",
   "mimetype": "text/x-python",
   "name": "python",
   "nbconvert_exporter": "python",
   "pygments_lexer": "ipython3",
   "version": "3.6.3"
  }
 },
 "nbformat": 4,
 "nbformat_minor": 2
}
