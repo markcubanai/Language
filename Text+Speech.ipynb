{
  "cells": [
    {
      "metadata": {},
      "cell_type": "markdown",
      "source": "# Introduction to AI\n## Text and Speech Demos\n"
    },
    {
      "metadata": {},
      "cell_type": "markdown",
      "source": "## Performing Basic Frequency Analysis\nLet's start by using some very basic frequency analysis on a document to see if we can determine what the document is about  based on word frequency.\n\n### Load a Text Document\nRun the cell below to load a document and view the text it contains."
    },
    {
      "metadata": {
        "trusted": true
      },
      "cell_type": "code",
      "source": "# Use Curl to get a document from GitHub and open it\n!curl https://raw.githubusercontent.com/MicrosoftLearning/AI-Introduction/master/files/Moon.txt -o Moon.txt\ndoc1 = open(\"Moon.txt\", \"r\")\n\n# Read the document and print its contents\ndoc1Txt = doc1.read()\nprint(doc1Txt)",
      "execution_count": null,
      "outputs": []
    },
    {
      "metadata": {},
      "cell_type": "markdown",
      "source": "#### Normalize the Text\n\nText includes a lot of punctuation, which we need to remove if we want to work only with the actual words.\n\nRun the cell below to strip all the punctuation from the text and convert the words to lower case."
    },
    {
      "metadata": {
        "trusted": true
      },
      "cell_type": "code",
      "source": "from string import punctuation\n\n# remove numeric digits\ntxt = ''.join(c for c in doc1Txt if not c.isdigit())\n\n# remove punctuation and make lower case\ntxt = ''.join(c for c in txt if c not in punctuation).lower()\n\n# print the normalized text\nprint (txt)",
      "execution_count": null,
      "outputs": []
    },
    {
      "metadata": {},
      "cell_type": "markdown",
      "source": "#### Get the Frequency Distribution\nNow let's tokenize the text (split it into individual words), and count the number of times each word occurs."
    },
    {
      "metadata": {
        "trusted": true
      },
      "cell_type": "code",
      "source": "import nltk\nimport pandas as pd\nfrom nltk.probability import FreqDist\nnltk.download(\"punkt\")\n\n# Tokenize the text into individual words\nwords = nltk.tokenize.word_tokenize(txt)\n\n# Get the frequency distribution of the words into a data frame\nfdist = FreqDist(words)\ncount_frame = pd.DataFrame(fdist, index =[0]).T\ncount_frame.columns = ['Count']\nprint (count_frame)",
      "execution_count": null,
      "outputs": []
    },
    {
      "metadata": {},
      "cell_type": "markdown",
      "source": "#### Visualize Word Frequency\nIt's often easier to analyze frequency by creating a visualization, such as a Pareto chart."
    },
    {
      "metadata": {
        "trusted": true
      },
      "cell_type": "code",
      "source": "%matplotlib inline\nimport matplotlib.pyplot as plt\n\n# Sort the data frame by frequency\ncounts = count_frame.sort_values('Count', ascending = False)\n\n# Display the top 60 words as a bar plot\nfig = plt.figure(figsize=(16, 9))\nax = fig.gca()    \ncounts['Count'][:60].plot(kind = 'bar', ax = ax)\nax.set_title('Frequency of the most common words')\nax.set_ylabel('Frequency of word')\nax.set_xlabel('Word')\nplt.show()",
      "execution_count": null,
      "outputs": []
    },
    {
      "metadata": {},
      "cell_type": "markdown",
      "source": "#### Remove stop words\n\nA large number of the words in the text are common words like \"the\" or \"and\". These \"stopwords\" add little in the way of semantic meaning to the text, and won't help us determine the subject matter - so run the cell below to remove them."
    },
    {
      "metadata": {
        "trusted": true
      },
      "cell_type": "code",
      "source": "# Get standard stop words from NLTK\nnltk.download(\"stopwords\")\nfrom nltk.corpus import stopwords\n\n# Filter out the stop words\ntxt = ' '.join([word for word in txt.split() if word not in (stopwords.words('english'))])\n\n# Get the frequency distribution of the remaining words\nwords = nltk.tokenize.word_tokenize(txt)\nfdist = FreqDist(words)\ncount_frame = pd.DataFrame(fdist, index =[0]).T\ncount_frame.columns = ['Count']\n\n# Plot the frequency of the top 60 words\ncounts = count_frame.sort_values('Count', ascending = False)\nfig = plt.figure(figsize=(16, 9))\nax = fig.gca()    \ncounts['Count'][:60].plot(kind = 'bar', ax = ax)\nax.set_title('Frequency of the most common words')\nax.set_ylabel('Frequency of word')\nax.set_xlabel('Word')\nplt.show()",
      "execution_count": null,
      "outputs": []
    },
    {
      "metadata": {},
      "cell_type": "markdown",
      "source": "\n\n### Visualize the Frequency Distribution for the Remaining Words\nNow that we've prepared the text, we can tokenize the string into a list of individual words, and then perform frequency analysis on those words based on how often they appear in the text."
    },
    {
      "metadata": {
        "scrolled": false,
        "trusted": true
      },
      "cell_type": "code",
      "source": "# remind ourselves of the first document\nprint(doc1Txt)\nprint(\"------------------------------------------------\")\n\n# Get a second document, normalize it, and remove stop words\n!curl https://raw.githubusercontent.com/MicrosoftLearning/AI-Introduction/master/files/Gettysburg.txt -o Gettysburg.txt\ndoc2 = open(\"Gettysburg.txt\", \"r\")\ndoc2Txt = doc2.read()\nprint (doc2Txt)\nfrom string import punctuation\ntxt2 = ''.join(c for c in doc2Txt if not c.isdigit())\ntxt2 = ''.join(c for c in txt2 if c not in punctuation).lower()\ntxt2 = ' '.join([word for word in txt2.split() if word not in (stopwords.words('english'))])\n\n\n# and a third\nprint(\"------------------------------------------------\")\n!curl https://raw.githubusercontent.com/MicrosoftLearning/AI-Introduction/master/files/Cognitive.txt -o Cognitive.txt\ndoc3 = open(\"Cognitive.txt\", \"r\")\ndoc3Txt = doc3.read()\nprint (doc3Txt)\nfrom string import punctuation\ntxt3 = ''.join(c for c in doc3Txt if not c.isdigit())\ntxt3 = ''.join(c for c in txt3 if c not in punctuation).lower()\ntxt3 = ' '.join([word for word in txt3.split() if word not in (stopwords.words('english'))])\n",
      "execution_count": null,
      "outputs": []
    },
    {
      "metadata": {},
      "cell_type": "markdown",
      "source": "#### Get TF-IDF Values for the top three words in each document\n\nIn the previous example, we've used basic term frequency to determine each word's \"importance\" based on how often it appears in the document. When dealing with a large corpus of multiple documents, a more commonly used technique is *term frequency, inverse document frequency* (or TF-IDF) in which a score is calculated based on how often a word or term appears in one document compared to its more general frequency across the entire collection of documents. Using this technique, a high degree of relevance is assumed for words that appear frequently in a particular document, but relatively infrequently across a wide range of other documents."
    },
    {
      "metadata": {
        "trusted": true
      },
      "cell_type": "code",
      "source": "# install textblob library and define functions for TF-IDF\n!pip install -U textblob==0.10.0\nimport math\nfrom textblob import TextBlob as tb\n\ndef tf(word, doc):\n    return doc.words.count(word) / len(doc.words)\n\ndef contains(word, docs):\n    return sum(1 for doc in docs if word in doc.words)\n\ndef idf(word, docs):\n    return math.log(len(docs) / (1 + contains(word, docs)))\n\ndef tfidf(word, doc, docs):\n    return tf(word,doc) * idf(word, docs)\n\n\n# Create a collection of documents as textblobs\ndoc1 = tb(txt)\ndoc2 = tb(txt2)\ndoc3 = tb(txt3)\ndocs = [doc1, doc2, doc3]\n\n# Use TF-IDF to get the three most important words from each document\nprint('-----------------------------------------------------------')\nfor i, doc in enumerate(docs):\n    print(\"Top words in document {}\".format(i + 1))\n    scores = {word: tfidf(word, doc, docs) for word in doc.words}\n    sorted_words = sorted(scores.items(), key=lambda x: x[1], reverse=True)\n    for word, score in sorted_words[:3]:\n        print(\"\\tWord: {}, TF-IDF: {}\".format(word, round(score, 5)))\n",
      "execution_count": null,
      "outputs": []
    },
    {
      "metadata": {},
      "cell_type": "markdown",
      "source": "### Stemming\n\n#### View frequency of unstemmed words from Kennedy's inauguration speech"
    },
    {
      "metadata": {
        "scrolled": false,
        "trusted": true
      },
      "cell_type": "code",
      "source": "# Load and print text\n!curl https://raw.githubusercontent.com/MicrosoftLearning/AI-Introduction/master/files/Inaugural.txt -o Inaugural.txt\ndoc4 = open(\"Inaugural.txt\", \"r\", encoding=\"utf-16\")\ndoc4Txt = doc4.read()\n\nprint(doc4Txt)\n\n# Normalize and remove stop words\nfrom string import punctuation\ndoc4Txt = ''.join(c for c in doc4Txt if not c.isdigit())\ndoc4Txt = ''.join(c for c in doc4Txt if c not in punctuation).lower()\ndoc4Txt = ' '.join([word for word in doc4Txt.split() if word not in (stopwords.words('english'))])\n\n# Get Frequency distribution\nwords = nltk.tokenize.word_tokenize(doc4Txt)\nfdist = FreqDist(words)\ncount_frame = pd.DataFrame(fdist, index =[0]).T\ncount_frame.columns = ['Count']\n\n# Plot frequency\ncounts = count_frame.sort_values('Count', ascending = False)\nfig = plt.figure(figsize=(16, 9))\nax = fig.gca()    \ncounts['Count'][:60].plot(kind = 'bar', ax = ax)\nax.set_title('Frequency of the most common words')\nax.set_ylabel('Frequency of word')\nax.set_xlabel('Word')\nplt.show()",
      "execution_count": null,
      "outputs": []
    },
    {
      "metadata": {},
      "cell_type": "markdown",
      "source": "#### Stem the words using the Porter stemmer"
    },
    {
      "metadata": {
        "trusted": true
      },
      "cell_type": "code",
      "source": "from nltk.stem.porter import PorterStemmer\n\n# Get the word stems\nps = PorterStemmer()\nstems = [ps.stem(word) for word in words]\n\n# Get Frequency distribution\nfdist = FreqDist(stems)\ncount_frame = pd.DataFrame(fdist, index =[0]).T\ncount_frame.columns = ['Count']\n\n# Plot frequency\ncounts = count_frame.sort_values('Count', ascending = False)\nfig = plt.figure(figsize=(16, 9))\nax = fig.gca()    \ncounts['Count'][:60].plot(kind = 'bar', ax = ax)\nax.set_title('Frequency of the most common words')\nax.set_ylabel('Frequency of word')\nax.set_xlabel('Word')\nplt.show()",
      "execution_count": null,
      "outputs": []
    },
    {
      "metadata": {},
      "cell_type": "markdown",
      "source": "### Text Analytics\n#### Create a Text Analytics service in Azure\n\n## Using the Text Analytics Cognitive Service\nThe previous examples demonstrate some ways to write code and analyze text, and they serve to illustrate that text analytics involves applying statistical techniques to text data in order to discern semantic meaning. This is a common theme in many AI solutions.\n\nMicrosoft Cognitive Services includes a Text Analytics service that encapsulates much more sophisticated techniques for ascertaining meaning from text."
    },
    {
      "metadata": {},
      "cell_type": "markdown",
      "source": "### Create a Text Analytics Service\nTo see this in action, you need to provision a Text Analytics service in your Azure subscription. Follow these steps to do that:\n\n1. Open another browser tab and navigate to https://portal.azure.com.\n2. Sign in using your Microsoft account.\n3. Click **+ Create a resource**, and search for \"**Text Analytics**\".\n4. In the list of services, click **Text Analytics**.\n5. In the **Text Analytics API** blade, click **Create**.\n6. In the **Create** blade, enter the following details, and then click **Create**\n  * **Name**: A unique name for your service.\n  * **Subscription**: Azure for Students\n  * **Location**: (US) South Central US\n  * **Pricing tier**: Choose the F0 pricing tier.\n  * **Resource Group**: Choose the existing resource group you created in the previous lab (or create a new one if you didn't complete the previous lab by clicking **Create new** and entering a unique name)\n7. Wait for the service to be created.\n8. When deployment is complete, click **Go to resource**.\n9. In the blade for your Text Analytics service, click **Keys and Endpoint** and then copy **Key 1** to the clipboard and paste it into the **textKey** variable assignment value in the cell below. \n10. Click the **Run** button to run the cell below that assigns the variable textKey."
    },
    {
      "metadata": {
        "trusted": true
      },
      "cell_type": "code",
      "source": "textKey = 'YOUR_KEY_1'",
      "execution_count": null,
      "outputs": []
    },
    {
      "metadata": {},
      "cell_type": "markdown",
      "source": "#### Analyze the Gettysburg and Cognitive documents"
    },
    {
      "metadata": {
        "trusted": true
      },
      "cell_type": "code",
      "source": "try:\n    textAnalyticsURI = 'SouthCentralUS.api.cognitive.microsoft.com'\n\n    import http.client, urllib.request, urllib.parse, urllib.error, base64, json, urllib\n\n    # Define the request headers.\n    headers = {\n        'Content-Type': 'application/json',\n        'Ocp-Apim-Subscription-Key': textKey,\n        'Accept': 'application/json'\n    }\n\n    # Define the parameters\n    params = urllib.parse.urlencode({\n    })\n\n    # Define the request body\n    body = {\n      \"documents\": [\n        {\n            \"language\": \"en\",\n            \"id\": \"1\",\n            \"text\": doc2Txt\n        },\n        {\n            \"language\": \"en\",\n            \"id\": \"2\",\n            \"text\": doc3Txt\n        }\n      ]\n    }\n\n    try:\n        # Execute the REST API call and get the response.\n        conn = http.client.HTTPSConnection(textAnalyticsURI)\n        conn.request(\"POST\", \"/text/analytics/v2.0/keyPhrases?%s\" % params, str(body), headers)\n        response = conn.getresponse()\n        data = response.read().decode(\"UTF-8\")\n\n        # 'data' contains the JSON response, which includes a collection of documents.\n        parsed = json.loads(data)\n        for document in parsed['documents']:\n            print(\"Document \" + document[\"id\"] + \" key phrases:\")\n            for phrase in document['keyPhrases']:\n                print(\"  \" + phrase)\n            print(\"---------------------------\")\n        conn.close()\n\n    except Exception as e:\n        print('Error:')\n        print(e)\nexcept:\n    print(\"Make sure you run the code cell above that assigns the textKey variable! Then run this cell again.\")",
      "execution_count": null,
      "outputs": []
    },
    {
      "metadata": {},
      "cell_type": "markdown",
      "source": "From these key phrases, it's reasonably clear that the first document is about freedom and nationhood, while the second is about software services for AI.\n\n### Perform Sentiment Analysis\nAnother common AI requirement is to determine the sentiment associated with some text. For example, you might analyze tweets that include your organization's twitter handle to determine if they are positive or negative.\n\nRun the cell below to use the **sentiment** method of the Text Analytics service to discern the sentiment of two sentences."
    },
    {
      "metadata": {
        "trusted": true
      },
      "cell_type": "code",
      "source": "body = {\n  \"documents\": [\n    {\n      \"language\": \"en\",\n      \"id\": \"1\",\n      \"text\": \"Wow! cognitive services are fantastic.\"\n    },\n    {\n      \"language\": \"en\",\n      \"id\": \"2\",\n      \"text\": \"I hate it when computers don't understand me.\"\n    }\n  ]\n}\n\n\ntry:\n    conn = http.client.HTTPSConnection(textAnalyticsURI)\n    conn.request(\"POST\", \"/text/analytics/v2.0/sentiment?%s\" % params, str(body), headers)\n    response = conn.getresponse()\n    data = response.read().decode(\"UTF-8\")\n    parsed = json.loads(data)\n    \n    # Get the numeric score for each document\n    for document in parsed['documents']:\n        sentiment = \"negative\"\n        \n        # if it's more than 0.5, consider the sentiment to be positive.\n        if document[\"score\"] >= 0.5:\n            sentiment = \"positive\"\n        print(\"Document:\" + document[\"id\"] + \" = \" + sentiment)\n    conn.close()\n    \nexcept Exception as e:\n    print(\"[Errno {0}] {1}\".format(e.errno, e.strerror))\n\n",
      "execution_count": null,
      "outputs": []
    },
    {
      "metadata": {},
      "cell_type": "markdown",
      "source": "### Create a  Speech Service\nThe Microsoft Cognitive Services include the Bing Speech service, that can interpret spoken input from a microphone or audio file. Follow these steps to provision the Bing speech service:\n\n1. Open another browser tab and navigate to https://portal.azure.com.\n2. Sign in using your Microsoft account.\n3. Click **+ Create a resource**, and search for \"**Speech**\".\n4. In the list of services, click ** Speech**.\n5. In the **Bing Speech** blade, click **Create**.\n6. In the **Create** blade, enter the following details, and then click **Create**\n  * **Name**: A unique name for your service.\n  * **Subscription**: Azure for Students\n  * **Location**: (US) South Central US\n  * **Pricing tier**: Choose the F0 pricing tier.\n  * **Resource Group**: Choose the existing resource group you used previously.\n7. Wait for the service to be created.\n8. When deployment is complete, click **Go to resource**.\n10. In the blade for your Speech service, click **Keys and Endpoint** and then copy **Key 1** to the clipboard and paste it into the **speechKey** variable assignment value in the cell below. \n11. Click the Run button to run the cell below that assigns the variable speechKey."
    },
    {
      "metadata": {
        "trusted": true
      },
      "cell_type": "code",
      "source": "speechKey = 'YOUR_KEY_1'",
      "execution_count": null,
      "outputs": []
    },
    {
      "metadata": {},
      "cell_type": "markdown",
      "source": "#### Get the audio input\nWe'll use a WAV file of captured audio containing the speech we want to transcribe"
    },
    {
      "metadata": {
        "trusted": true
      },
      "cell_type": "code",
      "source": "import IPython\n\ntry:\n    speechKey\n    \n    # Download the audio file\n    !curl https://raw.githubusercontent.com/MicrosoftLearning/AI-Introduction/master/files/RainSpain.wav -o RainSpain.wav\n    \n    # Play the audio\n    IPython.display.Audio('RainSpain.wav', autoplay=True)\nexcept:\n    print(\"Make sure you run the code cell above that assigns the speechKey variable! Then run this cell again.\")",
      "execution_count": null,
      "outputs": []
    },
    {
      "metadata": {},
      "cell_type": "markdown",
      "source": "#### Convert speech to text"
    },
    {
      "metadata": {
        "trusted": true
      },
      "cell_type": "code",
      "source": "import IPython\nimport requests, json\n\nspeech_region = \"SouthCentralUS\"\n\nwith open(\"RainSpain.wav\", mode=\"rb\") as audio_file:\n        audio_data =  audio_file.read()\n        \n# The Speech API requires an access token (valid for 10 mins)\napiEndPoint = \"https://\" + speech_region + \".api.cognitive.microsoft.com/sts/v1.0/issueToken\"\napiKey = speechKey\nheaders = {\"Ocp-Apim-Subscription-Key\": apiKey}\n\n# Use the API key to request an access token\nresponse = requests.post(apiEndPoint, headers=headers)\naccesstoken = str(response.text)\n\n# Now that we have a token, we can set up the request\nspeechToTextEndPoint = \"https://\" + speech_region + \".stt.speech.microsoft.com/speech/recognition/conversation/cognitiveservices/v1\"\nheaders = {\"Content-type\": \"audio/wav; codec=audio/pcm; samplerate=16000\", \n           \"Authorization\": \"Bearer \" + accesstoken}\nparams = {\"language\":\"en-US\"}\nbody = audio_data\n\n# Connect to server, post the request, and get the result\nresponse = requests.post(speechToTextEndPoint,data=body, params=params, headers=headers)\nresult = str(response.text)\nprint(json.loads(result)['DisplayText'])",
      "execution_count": null,
      "outputs": []
    },
    {
      "metadata": {},
      "cell_type": "markdown",
      "source": "#### Convert text to speech"
    },
    {
      "metadata": {
        "trusted": true
      },
      "cell_type": "code",
      "source": "import IPython\nimport requests, json\nfrom xml.etree import ElementTree\n\n# Get the input text\nmyText = input('What would you like me to say?: \\n')\n        \n# The Speech API requires an access token (valid for 10 mins)\napiEndPoint = \"https://\" + speech_region + \".api.cognitive.microsoft.com/sts/v1.0/issueToken\"\napiKey = speechKey\nheaders = {\"Ocp-Apim-Subscription-Key\": apiKey}\n\n# Use the API key to request an access token\nresponse = requests.post(apiEndPoint, headers=headers)\naccesstoken = str(response.text)\n\n# Now that we have a token, we can set up the request\ntextToSpeechEndPoint = \"https://\" + speech_region + \".tts.speech.microsoft.com/cognitiveservices/v1\"\nheaders = {\"Content-type\": \"application/ssml+xml\",\n           'X-Microsoft-OutputFormat': 'riff-16khz-16bit-mono-pcm',\n           'User-Agent': 'speech',\n           \"Authorization\": \"Bearer \" + accesstoken}\n\n# The request body is XML\nbody = \"<speak version='1.0' xml:lang='en-US'>\\\n          <voice xml:lang='en-US'\\\n                 xml:gender='Female'\\\n                 name='Microsoft Server Speech Text to Speech Voice (en-US, ZiraRUS)'>\" + myText + \"</voice>\\\n        </speak>\"\n\n\n# Connect to server, post the request, and get the result\nresponse = requests.post(textToSpeechEndPoint,data=body, headers=headers)\n\n#Play the audio\nIPython.display.Audio(response.content, autoplay=True)",
      "execution_count": null,
      "outputs": []
    },
    {
      "metadata": {
        "collapsed": true
      },
      "cell_type": "markdown",
      "source": "### Translation\n\n### Create a Translator Text Service\nThe Microsoft Cognitive Services include the Translator Text service, that can translate text between different languages. Follow these steps to provision the Translator Text service:\n\n1. Open another browser tab and navigate to https://portal.azure.com.\n2. Sign in using your Microsoft account.\n3. Click **+ Create a resource**, and search for \"**Translator Text**\".\n4. In the list of services, click **Translator Text**.\n5. In the **Translator Text** blade, click **Create**.\n6. In the **Create** blade, enter the following details, and then click **Create**\n  * **Name**: A unique name for your service.\n  * **Subscription**: Azure for Students\n  * **Pricing tier**: Choose the F0 pricing tier.\n  * **Resource Group**: Choose the existing resource group you used previously.\n7. Wait for the service to be created.\n8. When deployment is complete, click **Go to resource**.\n9. In the blade for your Translator Text service, click **Keys and Endpoint** and then copy **Key 1** to the clipboard and paste it into the **transTextKey** variable assignment value in the cell below. \n10. Click the **Run** button to run the cell below that assigns the variable transTextKey.\n\n#### Get the service key"
    },
    {
      "metadata": {
        "trusted": true
      },
      "cell_type": "code",
      "source": "transTextKey = \"YOUR_KEY_1\"",
      "execution_count": null,
      "outputs": []
    },
    {
      "metadata": {},
      "cell_type": "markdown",
      "source": "#### Translate Text\nWhen asked to enter a language, note that you must enter the language code (i.e. \"en\" for English). Find all compatible language codes here: https://docs.microsoft.com/en-us/azure/cognitive-services/translator/language-support"
    },
    {
      "metadata": {
        "trusted": true
      },
      "cell_type": "code",
      "source": "try:\n    import requests, http.client, urllib.request, urllib.parse, urllib.error, base64, json, urllib\n    from xml.etree import ElementTree\n\n\n    textToTranslate = input('Please enter some text: \\n')\n    fromLangCode = input('What language is this?: \\n') \n    toLangCode = input('To what language would you like it translated?: \\n') \n\n    try:\n        # Connect to server to get the Access Token\n        apiKey = transTextKey\n        params = \"\"\n        headers = {\"Ocp-Apim-Subscription-Key\": apiKey}\n        AccessTokenHost = \"api.cognitive.microsoft.com\"\n        path = \"/sts/v1.0/issueToken\"\n\n        conn = http.client.HTTPSConnection(AccessTokenHost)\n        conn.request(\"POST\", path, params, headers)\n        response = conn.getresponse()\n        data = response.read()\n        conn.close()\n        accesstoken = \"Bearer \" + data.decode(\"UTF-8\")\n\n\n        # Define the request headers.\n        headers = {\n            'Authorization': accesstoken\n        }\n\n        # Define the parameters\n        params = urllib.parse.urlencode({\n            \"text\": textToTranslate,\n            \"to\": toLangCode,\n            \"from\": fromLangCode\n        })\n\n        # Execute the REST API call and get the response.\n        conn = http.client.HTTPSConnection(\"api.microsofttranslator.com\")\n        conn.request(\"GET\", \"/V2/Http.svc/Translate?%s\" % params, \"{body}\", headers)\n        response = conn.getresponse()\n        data = response.read()\n        translation = ElementTree.fromstring(data.decode(\"utf-8\"))\n        print (translation.text)\n\n        conn.close()\n\n    except Exception as e:\n        print(\"[Errno {0}] {1}\".format(e.errno, e.strerror))\nexcept:\n    print(\"Make sure you run the code cell above that assigns the transTextKey variable! Then run this cell again.\")",
      "execution_count": null,
      "outputs": []
    },
    {
      "metadata": {},
      "cell_type": "markdown",
      "source": "## Using the Language Understanding Intelligence Service (LUIS)\nIncreasingly, we expect computers to be able to use AI in order to understand spoken or typed commands in natural language. For example, we want to be able to say \"switch on the light\" or \"put the light on\", and have an AI-powered device understand the command and take appropriate action.\n\n### Provision the Language Understanding Intelligence Service (LUIS)\nThe Microsoft cognitive services include the Language Understanding Intelligence Service (LUIS), which enables you to define *intents* that are applied to *entities* based on *utterances*.\n\nTo get started with LUIS, follow these steps to provision the service in your Azure subscription:\n1. Open another browser tab and navigate to https://portal.azure.com.\n2. Sign in using your Microsoft account.\n3. Click **+ Create a resource**, and search for **Language Understanding**.\n4. In the list of services, click **Language Understanding**.\n5. In the **Language Understanding** blade, click **Create**.\n6. In the **Create** blade, enter the following details, and then click **Review + create**\n  * **Create Options**: Both\n  * **Subscription**: Azure for Students\n  * **Resource Group**: Choose the existing resource group you used previously.\n  * **Name**: A unique name for your service.\n  * **Authoring location**: Choose a recommended location.\n  * **Authoring pricing tier**: Choose the F0 pricing tier.\n  * **Prediction location**: Choose a recommended location.\n  * **Prediction pricing tier**: Choose the F0 pricing tier.\n7. Click **Create**\n8. Wait for the service to be created.\n\n### Create a LUIS App\nTo implement natural language understanding with LUIS, you must first create an app; and then add intents, utterances, and entities to define the commands you want the app to understand.\n1. Open a new browser tab and navigate to https://www.luis.ai/.\n2. Sign in using the Microsoft account associated with your Azure subscription. If this is the first time you have signed into LUIS, you may need to grant the app some permissions to access your account details, and then fill in some information and accept the terms of use.\n3. If a message prompting you to complete a tutorial, close it (you can complete this tutorial later - for now, we'll focus on a simpler example).\n4. Click **Create new app** and create a new app with the following settings:\n  * **Name**: Simple Home Automation\n  * **Culture**: English\n  * **Description**: A basic home automation example\n5. If an instructional window opens, close out of it.\n\n\n### Create Intents\n1. Click on the **Build** tab in the top menu.\n2. In the pane on the left, click **Intents**. Then click **+ Create new intent**, and add an intent with the name **Light On**. Intents are **case sensitive** so enter the name exactly as it appears!\n3. In the field that says \"Enter an example of what user might say and hit Enter.\", type \"*switch the light on*\" and press **Enter** to add this utterance to the list.\n4. Next, hover your mouse over the word \"light\" in the newly created utterance so that the list shows the value *switch the [light] on*. Then click **[light]**,  type *Light*, and click **Create a new entity** and create a *simple* entity named **Light**.\n5. In the pane on the left, click **Intents** and click **+ Create new intent**, to add a second intent with the name **Light Off**. Intents are **case sensitive** so enter the name exactly as it appears!\n6. In the field that says \"Enter an example of what user might say and hit Enter.\", type \"*switch the light off*\" and press **Enter** to add this utterance to the list.\n7. In the list of utterances, in the *switch the light off* utterance, hold the mouse over the word \"light\" so that the list shows the value *switch the [light] off*. Then click **[light]** select the *Light* entity you created previously.\n\n### Train the Model\n1. At the top of the page, click **Train** to train the AI model.\n2. After the app has been trained, click **Test**, and then in the test pane, enter the following utterances and verify that for each utterance, the correct intent is predicted underneath the text bubble:\n    * *turn on the light* should predict **Light On**\n    * *put the light off* should predict **Light Off**\n3. At the top of the page, click **Publish**. Then ensure that the **Production** option is selected and click **Publish**.\n4. Once the app has been published, click **Refer to the list of endpoints** in the success banner at the top of the screen.\n\n### Consume the LUIS App\nNow that you have published your LUIS app, you can consume it from a client application by making HTTP requests that include a query string. The query will be used to identify the most likely intent, which will be returned to the calling client as in JSON response.\n\nAssign the **exampleQuery** variable in the cell below to reflect the Example Query URL for your app. Then **run the cell**, and enter a command when prompted to call your service and interpret the command. The JSON response is shown with an appropriate image for each command.\n\nTry the following commands:\n* *Switch on the light*\n* *Turn on the light*\n* *Turn off the light*\n* *Could you put the light on please?*"
    },
    {
      "metadata": {
        "trusted": true
      },
      "cell_type": "code",
      "source": "# Set up API configuration\nexampleQuery = \"YOUR_EXAMPLE_QUERY\"",
      "execution_count": null,
      "outputs": []
    },
    {
      "metadata": {
        "trusted": true
      },
      "cell_type": "code",
      "source": "%matplotlib inline\ntry:\n    from matplotlib.pyplot import imshow\n    from PIL import Image\n    import requests\n    from io import BytesIO\n    import json \n\n    # prompt for a command\n    command = input('Please enter a command: \\n')\n\n    # Call the LUIS service and get the JSON response\n    endpoint = exampleQuery + command.replace(\" \",\"+\")\n    response = requests.get(endpoint)\n    data = json.loads(response.content.decode(\"UTF-8\"))\n\n    # Identify the top scoring intent\n    intent = data[\"topScoringIntent\"][\"intent\"]\n    if (intent == \"Light On\"):\n        img_url = 'https://raw.githubusercontent.com/MicrosoftLearning/AI-Introduction/master/files/LightOn.jpg'\n    elif (intent == \"Light Off\"):\n        img_url = 'https://raw.githubusercontent.com/MicrosoftLearning/AI-Introduction/master/files/LightOff.jpg'\n    else:\n        img_url = 'https://raw.githubusercontent.com/MicrosoftLearning/AI-Introduction/master/files/Dunno.jpg'\n\n    # Get the appropriate image and show it\n    response = requests.get(img_url)\n    img = Image.open(BytesIO(response.content))\n    imshow(img)\nexcept:\n    print(\"Make sure you run the code cell above that assigns the exampleQuery variable! Then run this cell again.\")",
      "execution_count": null,
      "outputs": []
    },
    {
      "metadata": {
        "trusted": false
      },
      "cell_type": "markdown",
      "source": "# Nice work!\nIn this lab, you saw how to use many different Azure tools to process text and speech. There are so many applications you can create by combining these different tools. Brainstorm a few ideas you could build for the final project!"
    }
  ],
  "metadata": {
    "kernelspec": {
      "name": "python3",
      "display_name": "Python 3",
      "language": "python"
    }
  },
  "nbformat": 4,
  "nbformat_minor": 2
}