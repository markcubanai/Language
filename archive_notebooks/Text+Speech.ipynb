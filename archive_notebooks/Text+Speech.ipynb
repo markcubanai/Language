{
 "cells": [
  {
   "cell_type": "markdown",
   "metadata": {},
   "source": [
    "# Introduction to AI\n",
    "## Text and Speech Demos\n",
    "Talk with your group about what you think each line of code does."
   ]
  },
  {
   "cell_type": "markdown",
   "metadata": {},
   "source": [
    "# Part 1 - Performing Basic Frequency Analysis\n",
    "Let's start by using some very basic frequency analysis on a document to see if we can determine what the document is about  based on word frequency.\n",
    "\n",
    "### Load a Text Document\n",
    "Run the cell below to load the transcript of a Shark Tank pitch."
   ]
  },
  {
   "cell_type": "code",
   "execution_count": null,
   "metadata": {},
   "outputs": [],
   "source": [
    "# Open a Shark Tank pitch by Pick-up Pools\n",
    "doc1 = open(\"SharkTank.txt\", \"r\")\n",
    "\n",
    "# Read the document and print its contents\n",
    "doc1Txt = doc1.read()\n",
    "print(doc1Txt)"
   ]
  },
  {
   "cell_type": "markdown",
   "metadata": {},
   "source": [
    "#### Normalize the Text\n",
    "\n",
    "Text includes a lot of punctuation, which we need to remove if we want to work only with the actual words.\n",
    "\n",
    "Run the cell below to strip all the punctuation from the text and convert the words to lower case."
   ]
  },
  {
   "cell_type": "code",
   "execution_count": null,
   "metadata": {},
   "outputs": [],
   "source": [
    "from string import punctuation\n",
    "\n",
    "# remove numeric digits\n",
    "txt = ''.join(c for c in doc1Txt if not c.isdigit())\n",
    "\n",
    "# remove punctuation and make lower case\n",
    "txt = ''.join(c for c in txt if c not in punctuation).lower()\n",
    "\n",
    "# print the normalized text\n",
    "print (txt)"
   ]
  },
  {
   "cell_type": "markdown",
   "metadata": {},
   "source": [
    "#### Get the Frequency Distribution\n",
    "Now let's tokenize the text (split it into individual words), and count the number of times each word occurs."
   ]
  },
  {
   "cell_type": "code",
   "execution_count": null,
   "metadata": {},
   "outputs": [],
   "source": [
    "import nltk\n",
    "import pandas as pd\n",
    "from nltk.probability import FreqDist\n",
    "nltk.download(\"punkt\")\n",
    "\n",
    "# Tokenize the text into individual words\n",
    "words = nltk.tokenize.word_tokenize(txt)\n",
    "\n",
    "# Get the frequency distribution of the words into a data frame\n",
    "fdist = FreqDist(words)\n",
    "count_frame = pd.DataFrame(fdist, index =[0]).T\n",
    "count_frame.columns = ['Count']\n",
    "print (count_frame)"
   ]
  },
  {
   "cell_type": "markdown",
   "metadata": {},
   "source": [
    "#### Visualize Word Frequency\n",
    "It's often easier to analyze frequency by creating a visualization, such as a Pareto chart."
   ]
  },
  {
   "cell_type": "code",
   "execution_count": null,
   "metadata": {},
   "outputs": [],
   "source": [
    "%matplotlib inline\n",
    "import matplotlib.pyplot as plt\n",
    "\n",
    "# Sort the data frame by frequency\n",
    "counts = count_frame.sort_values('Count', ascending = False)\n",
    "\n",
    "# Display the top 60 words as a bar plot\n",
    "fig = plt.figure(figsize=(16, 9))\n",
    "ax = fig.gca()    \n",
    "counts['Count'][:60].plot(kind = 'bar', ax = ax)\n",
    "ax.set_title('Frequency of the most common words')\n",
    "ax.set_ylabel('Frequency of word')\n",
    "ax.set_xlabel('Word')\n",
    "plt.show()"
   ]
  },
  {
   "cell_type": "markdown",
   "metadata": {},
   "source": [
    "#### Remove stop words\n",
    "\n",
    "A large number of the words in the text are common words like \"the\" or \"and\". These \"stopwords\" add little in the way of semantic meaning to the text, and won't help us determine the subject matter - so run the cell below to remove them."
   ]
  },
  {
   "cell_type": "code",
   "execution_count": null,
   "metadata": {},
   "outputs": [],
   "source": [
    "# Get standard stop words from NLTK\n",
    "nltk.download(\"stopwords\")\n",
    "from nltk.corpus import stopwords\n",
    "\n",
    "# Filter out the stop words\n",
    "txt = ' '.join([word for word in txt.split() if word not in (stopwords.words('english'))])\n",
    "\n",
    "# Get the frequency distribution of the remaining words\n",
    "words = nltk.tokenize.word_tokenize(txt)\n",
    "fdist = FreqDist(words)\n",
    "count_frame = pd.DataFrame(fdist, index =[0]).T\n",
    "count_frame.columns = ['Count']\n",
    "\n",
    "# Plot the frequency of the top 60 words\n",
    "counts = count_frame.sort_values('Count', ascending = False)\n",
    "fig = plt.figure(figsize=(16, 9))\n",
    "ax = fig.gca()    \n",
    "counts['Count'][:60].plot(kind = 'bar', ax = ax)\n",
    "ax.set_title('Frequency of the most common words')\n",
    "ax.set_ylabel('Frequency of word')\n",
    "ax.set_xlabel('Word')\n",
    "plt.show()"
   ]
  },
  {
   "cell_type": "markdown",
   "metadata": {},
   "source": [
    "\n",
    "\n",
    "### Visualize the Frequency Distribution for the Remaining Words\n",
    "Now that we've prepared the text, we can tokenize the string into a list of individual words, and then perform frequency analysis on those words based on how often they appear in the text."
   ]
  },
  {
   "cell_type": "code",
   "execution_count": null,
   "metadata": {},
   "outputs": [],
   "source": [
    "# remind ourselves of the first document\n",
    "print(\"------------------------------------------------\")\n",
    "print(\"Shark Tank Pick-up Pools Pitch\")\n",
    "print(\"------------------------------------------------\")\n",
    "print(doc1Txt)\n",
    "\n",
    "# Load the movie script of the opening scene for Spider-Man: Into the Spider-Verse\n",
    "doc2 = open(\"Spiderman.txt\", \"r\")\n",
    "doc2Txt = doc2.read()\n",
    "print(\"------------------------------------------------\")\n",
    "print(\"Spider-Man: Into the Spider-Verse\")\n",
    "print(\"------------------------------------------------\")\n",
    "print (doc2Txt)\n",
    "from string import punctuation\n",
    "txt2 = ''.join(c for c in doc2Txt if not c.isdigit())\n",
    "txt2 = ''.join(c for c in txt2 if c not in punctuation).lower()\n",
    "txt2 = ' '.join([word for word in txt2.split() if word not in (stopwords.words('english'))])\n",
    "\n",
    "\n",
    "# Load the play-by-play transcript of the Dallas Mavericks' Luka Doncic hitting a three pointer at the buzzer to win Game 4 of the NBA Playoffs against the Clippers\n",
    "print(\"------------------------------------------------\")\n",
    "print(\"NBA Playoffs Luka Doncic Game Winner - Play by Play\")\n",
    "print(\"------------------------------------------------\")\n",
    "doc3 = open(\"PlayByPlay.txt\", \"r\")\n",
    "doc3Txt = doc3.read()\n",
    "print (doc3Txt)\n",
    "from string import punctuation\n",
    "txt3 = ''.join(c for c in doc3Txt if not c.isdigit())\n",
    "txt3 = ''.join(c for c in txt3 if c not in punctuation).lower()\n",
    "txt3 = ' '.join([word for word in txt3.split() if word not in (stopwords.words('english'))])\n"
   ]
  },
  {
   "cell_type": "markdown",
   "metadata": {},
   "source": [
    "# Part 2 - Dig Deeper - TF-IDF\n",
    "#### Get TF-IDF Values for the top three words in each document\n",
    "\n",
    "In the previous example, we've used basic term frequency to determine each word's \"importance\" based on how often it appears in the document. When dealing with a large corpus of multiple documents, a more commonly used technique is *term frequency, inverse document frequency* (or TF-IDF) in which a score is calculated based on how often a word or term appears in one document compared to its more general frequency across the entire collection of documents. Using this technique, a high degree of relevance is assumed for words that appear frequently in a particular document, but relatively infrequently across a wide range of other documents. If this is confusing, don't worry! Run the examples below and it will become more clear."
   ]
  },
  {
   "cell_type": "code",
   "execution_count": null,
   "metadata": {},
   "outputs": [],
   "source": [
    "# install textblob library and define functions for TF-IDF\n",
    "!pip install -U textblob==0.10.0\n",
    "import math\n",
    "from textblob import TextBlob as tb\n",
    "\n",
    "def tf(word, doc):\n",
    "    return doc.words.count(word) / len(doc.words)\n",
    "\n",
    "def contains(word, docs):\n",
    "    return sum(1 for doc in docs if word in doc.words)\n",
    "\n",
    "def idf(word, docs):\n",
    "    return math.log(len(docs) / (1 + contains(word, docs)))\n",
    "\n",
    "def tfidf(word, doc, docs):\n",
    "    return tf(word,doc) * idf(word, docs)\n",
    "\n",
    "\n",
    "# Create a collection of documents as textblobs\n",
    "doc1 = tb(txt)\n",
    "doc2 = tb(txt2)\n",
    "doc3 = tb(txt3)\n",
    "docs = [doc1, doc2, doc3]\n",
    "\n",
    "# Use TF-IDF to get the three most important words from each document\n",
    "print('-----------------------------------------------------------')\n",
    "for i, doc in enumerate(docs):\n",
    "    print(\"Top words in document {}\".format(i + 1))\n",
    "    scores = {word: tfidf(word, doc, docs) for word in doc.words}\n",
    "    sorted_words = sorted(scores.items(), key=lambda x: x[1], reverse=True)\n",
    "    for word, score in sorted_words[:3]:\n",
    "        print(\"\\tWord: {}, TF-IDF: {}\".format(word, round(score, 5)))\n"
   ]
  },
  {
   "cell_type": "markdown",
   "metadata": {},
   "source": [
    "### Stemming\n",
    "\n",
    "#### View frequency of unstemmed words from Lewis Capaldi's song"
   ]
  },
  {
   "cell_type": "code",
   "execution_count": null,
   "metadata": {},
   "outputs": [],
   "source": [
    "# Load and print the lyrics to the song \"Someone You Loved\" by Lewis Capaldi\n",
    "doc4 = open(\"SomeoneYouLoved.txt\", \"r\")\n",
    "doc4Txt = doc4.read()\n",
    "\n",
    "print(\"------------------------------------------------\")\n",
    "print(\"Lyrics to 'Someone You Loved' by Lewis Capaldi\")\n",
    "print(\"------------------------------------------------\")\n",
    "print(doc4Txt)\n",
    "\n",
    "# Normalize and remove stop words\n",
    "from string import punctuation\n",
    "doc4Txt = ''.join(c for c in doc4Txt if not c.isdigit())\n",
    "doc4Txt = ''.join(c for c in doc4Txt if c not in punctuation).lower()\n",
    "doc4Txt = ' '.join([word for word in doc4Txt.split() if word not in (stopwords.words('english'))])\n",
    "\n",
    "# Get Frequency distribution\n",
    "words = nltk.tokenize.word_tokenize(doc4Txt)\n",
    "fdist = FreqDist(words)\n",
    "count_frame = pd.DataFrame(fdist, index =[0]).T\n",
    "count_frame.columns = ['Count']\n",
    "\n",
    "# Plot frequency\n",
    "counts = count_frame.sort_values('Count', ascending = False)\n",
    "fig = plt.figure(figsize=(16, 9))\n",
    "ax = fig.gca()    \n",
    "counts['Count'][:60].plot(kind = 'bar', ax = ax)\n",
    "ax.set_title('Frequency of the most common words')\n",
    "ax.set_ylabel('Frequency of word')\n",
    "ax.set_xlabel('Word')\n",
    "plt.show()"
   ]
  },
  {
   "cell_type": "markdown",
   "metadata": {},
   "source": [
    "#### Stem the words using the Porter stemmer"
   ]
  },
  {
   "cell_type": "code",
   "execution_count": null,
   "metadata": {},
   "outputs": [],
   "source": [
    "from nltk.stem.porter import PorterStemmer\n",
    "\n",
    "# Get the word stems\n",
    "ps = PorterStemmer()\n",
    "stems = [ps.stem(word) for word in words]\n",
    "\n",
    "# Get Frequency distribution\n",
    "fdist = FreqDist(stems)\n",
    "count_frame = pd.DataFrame(fdist, index =[0]).T\n",
    "count_frame.columns = ['Count']\n",
    "\n",
    "# Plot frequency\n",
    "counts = count_frame.sort_values('Count', ascending = False)\n",
    "fig = plt.figure(figsize=(16, 9))\n",
    "ax = fig.gca()    \n",
    "counts['Count'][:60].plot(kind = 'bar', ax = ax)\n",
    "ax.set_title('Frequency of the most common words')\n",
    "ax.set_ylabel('Frequency of word')\n",
    "ax.set_xlabel('Word')\n",
    "plt.show()"
   ]
  },
  {
   "cell_type": "markdown",
   "metadata": {},
   "source": [
    "# Part 3 - Named Entity Extraction using Spacy\n",
    "\n",
    "Named-entity recognition (NER) (also known as (named) entity identification, entity chunking, and entity extraction) is a subtask of information extraction that seeks to locate and classify named entities mentioned in unstructured text into pre-defined categories such as person names, organizations, locations, medical codes, time expressions, quantities, monetary values, percentages, etc. (Ref: Wikipedia)\n",
    "\n",
    "In this exercise we'll use a state-of-the-art text processing and NLP library called Spacy. You can tinker around with the text inputs, although you'll find that it works better on sentences where there are specific organizations, locations, names, etc. "
   ]
  },
  {
   "cell_type": "code",
   "execution_count": null,
   "metadata": {},
   "outputs": [],
   "source": [
    "# Install these in binder \n",
    "\n",
    "! pip install -U pip setuptools wheel\n",
    "! pip install -U spacy\n",
    "! python -m spacy download en_core_web_sm"
   ]
  },
  {
   "cell_type": "code",
   "execution_count": 2,
   "metadata": {},
   "outputs": [],
   "source": [
    "import spacy\n",
    "from spacy import displacy"
   ]
  },
  {
   "cell_type": "code",
   "execution_count": 3,
   "metadata": {},
   "outputs": [],
   "source": [
    "nlp = spacy.load('en_core_web_sm')"
   ]
  },
  {
   "cell_type": "code",
   "execution_count": 4,
   "metadata": {},
   "outputs": [
    {
     "data": {
      "text/html": [
       "<span class=\"tex2jax_ignore\"><div class=\"entities\" style=\"line-height: 2.5; direction: ltr\">When \n",
       "<mark class=\"entity\" style=\"background: #aa9cfc; padding: 0.45em 0.6em; margin: 0 0.25em; line-height: 1; border-radius: 0.35em;\">\n",
       "    Sebastian Thrun\n",
       "    <span style=\"font-size: 0.8em; font-weight: bold; line-height: 1; border-radius: 0.35em; vertical-align: middle; margin-left: 0.5rem\">PERSON</span>\n",
       "</mark>\n",
       " started working on self-driving cars at \n",
       "<mark class=\"entity\" style=\"background: #7aecec; padding: 0.45em 0.6em; margin: 0 0.25em; line-height: 1; border-radius: 0.35em;\">\n",
       "    Google\n",
       "    <span style=\"font-size: 0.8em; font-weight: bold; line-height: 1; border-radius: 0.35em; vertical-align: middle; margin-left: 0.5rem\">ORG</span>\n",
       "</mark>\n",
       " in \n",
       "<mark class=\"entity\" style=\"background: #bfe1d9; padding: 0.45em 0.6em; margin: 0 0.25em; line-height: 1; border-radius: 0.35em;\">\n",
       "    2007\n",
       "    <span style=\"font-size: 0.8em; font-weight: bold; line-height: 1; border-radius: 0.35em; vertical-align: middle; margin-left: 0.5rem\">DATE</span>\n",
       "</mark>\n",
       ", few people outside of the company took him seriously.</div></span>"
      ],
      "text/plain": [
       "<IPython.core.display.HTML object>"
      ]
     },
     "metadata": {},
     "output_type": "display_data"
    }
   ],
   "source": [
    "text1 = \"When Sebastian Thrun started working on self-driving cars at Google in 2007, few people outside of the company took him seriously.\"\n",
    "\n",
    "doc1 = nlp(text1)\n",
    "displacy.render(doc1, style=\"ent\", jupyter=True)"
   ]
  },
  {
   "cell_type": "code",
   "execution_count": 13,
   "metadata": {},
   "outputs": [
    {
     "data": {
      "text/html": [
       "<span class=\"tex2jax_ignore\"><div class=\"entities\" style=\"line-height: 2.5; direction: ltr\">\n",
       "<mark class=\"entity\" style=\"background: #aa9cfc; padding: 0.45em 0.6em; margin: 0 0.25em; line-height: 1; border-radius: 0.35em;\">\n",
       "    Ben Solo\n",
       "    <span style=\"font-size: 0.8em; font-weight: bold; line-height: 1; border-radius: 0.35em; vertical-align: middle; margin-left: 0.5rem\">PERSON</span>\n",
       "</mark>\n",
       " was a human male Force-sensitive who fell to the dark side of the Force as Kylo Ren, master of \n",
       "<mark class=\"entity\" style=\"background: #7aecec; padding: 0.45em 0.6em; margin: 0 0.25em; line-height: 1; border-radius: 0.35em;\">\n",
       "    the Knights of Ren\n",
       "    <span style=\"font-size: 0.8em; font-weight: bold; line-height: 1; border-radius: 0.35em; vertical-align: middle; margin-left: 0.5rem\">ORG</span>\n",
       "</mark>\n",
       " and eventual \n",
       "<mark class=\"entity\" style=\"background: #7aecec; padding: 0.45em 0.6em; margin: 0 0.25em; line-height: 1; border-radius: 0.35em;\">\n",
       "    Supreme Leader\n",
       "    <span style=\"font-size: 0.8em; font-weight: bold; line-height: 1; border-radius: 0.35em; vertical-align: middle; margin-left: 0.5rem\">ORG</span>\n",
       "</mark>\n",
       " of \n",
       "<mark class=\"entity\" style=\"background: #7aecec; padding: 0.45em 0.6em; margin: 0 0.25em; line-height: 1; border-radius: 0.35em;\">\n",
       "    the First Order\n",
       "    <span style=\"font-size: 0.8em; font-weight: bold; line-height: 1; border-radius: 0.35em; vertical-align: middle; margin-left: 0.5rem\">ORG</span>\n",
       "</mark>\n",
       ", but returned to the light side shortly before his death. </div></span>"
      ],
      "text/plain": [
       "<IPython.core.display.HTML object>"
      ]
     },
     "metadata": {},
     "output_type": "display_data"
    }
   ],
   "source": [
    "text2 = \"Ben Solo was a human male Force-sensitive who fell to the dark side of the Force as Kylo Ren, master of the Knights of Ren and eventual Supreme Leader of the First Order, but returned to the light side shortly before his death. \"\n",
    "\n",
    "doc2 = nlp(text2)\n",
    "displacy.render(doc2, style=\"ent\", jupyter=True)"
   ]
  },
  {
   "cell_type": "code",
   "execution_count": 10,
   "metadata": {},
   "outputs": [
    {
     "data": {
      "text/html": [
       "<span class=\"tex2jax_ignore\"><div class=\"entities\" style=\"line-height: 2.5; direction: ltr\">\n",
       "<mark class=\"entity\" style=\"background: #aa9cfc; padding: 0.45em 0.6em; margin: 0 0.25em; line-height: 1; border-radius: 0.35em;\">\n",
       "    Hwang\n",
       "    <span style=\"font-size: 0.8em; font-weight: bold; line-height: 1; border-radius: 0.35em; vertical-align: middle; margin-left: 0.5rem\">PERSON</span>\n",
       "</mark>\n",
       " had conceived of the idea based on his own economic struggles early in life as well as the class disparity in \n",
       "<mark class=\"entity\" style=\"background: #feca74; padding: 0.45em 0.6em; margin: 0 0.25em; line-height: 1; border-radius: 0.35em;\">\n",
       "    South Korea\n",
       "    <span style=\"font-size: 0.8em; font-weight: bold; line-height: 1; border-radius: 0.35em; vertical-align: middle; margin-left: 0.5rem\">GPE</span>\n",
       "</mark>\n",
       " and capitalism.</div></span>"
      ],
      "text/plain": [
       "<IPython.core.display.HTML object>"
      ]
     },
     "metadata": {},
     "output_type": "display_data"
    }
   ],
   "source": [
    "text3 = \"Hwang had conceived of the idea based on his own economic struggles early in life as well as the class disparity in South Korea and capitalism.\"\n",
    "\n",
    "doc3 = nlp(text3)\n",
    "displacy.render(doc3, style=\"ent\", jupyter=True)"
   ]
  },
  {
   "cell_type": "markdown",
   "metadata": {},
   "source": [
    "# Part 4 - NLP Algorithms using Google Colaboratory \n",
    "\n",
    "In these next exercises, you can use Google Colaboratory Notebooks online. Each Google Colaboratory (\"Colab\") notebook is its own virtual environment which can be run effortlessly in your browser. What you will do is click the link for `Open Google Colab Notebook` which will take you to the notebook located outside of Binder, somewhere on the internet. No installation on your computer is required. \n",
    "\n",
    "Each Google Colab notebook has been authored by different people over the years, and as such, are custom. We tried to select notebooks where the code is minimal and/or the explanations can be easily read. Don't get discouraged if some of the code and content is too complicated. Simply click each cell and wait for it to run. Be patient and don't click ahead."
   ]
  },
  {
   "cell_type": "markdown",
   "metadata": {},
   "source": [
    "## Tips: \n",
    "You may come across these messages. Here are the ways you can solve them."
   ]
  },
  {
   "cell_type": "markdown",
   "metadata": {},
   "source": [
    "**Run anyway**. You will see a pop-up that reads `Warning: This notebook was not authored by Google`. Click `Run anyway`.\n",
    "\n",
    "<img src=./img/runanyway.png>"
   ]
  },
  {
   "cell_type": "markdown",
   "metadata": {},
   "source": [
    "**Change your runtime to GPU**. Google Colab offers free use of Tesla K80 GPUs. Go to the toolbar and select `Runtime` -> `Change Runtime Type`. Select `GPU` in the drop-down under `Hardware accelerator`.\n",
    "\n",
    "<img src=./img/gpu.png>"
   ]
  },
  {
   "cell_type": "markdown",
   "metadata": {},
   "source": [
    "**Too many sessions**. This means you have too many Google Colab notebooks running at the same time. Due to restricted, free, compute, you should only run one notebook (session at a time. \n",
    "\n",
    "<img src=./img/sessions.png>\n",
    "\n",
    "Click `Manage Sessions`. You can see in your Active Sessions all the notebooks you are simultaneously running. Click `TERMINATE` for all of them. Now `Close` and it returns you to your notebook. Click the last cell you left off at.\n",
    "\n",
    "<img src=./img/terminate.png>"
   ]
  },
  {
   "cell_type": "markdown",
   "metadata": {},
   "source": [
    "## Notebook 1 - Binary Text Classification for Sentiment Prediction\n",
    "\n",
    "A classic example of text classification is to use the IMDB Movie Review dataset which consists of 25,000 examples in the training set. You'll get to train a sequence2sequence model for 10 epochs. You'll also get to see some of the preprocessing you completed above in action used in the notebook like vectorization. Your model should be close to 87% accurate for sentiment prediction. There's alot of extra content in the cells. Feel free to read each if you like, since some of the cells include evaluating the model for accurate it is and visualizing the accuracy and loss per epoch you trained.\n",
    "\n",
    "<a href=\"https://colab.research.google.com/github/tensorflow/docs/blob/master/site/en/tutorials/keras/text_classification.ipynb#scrollTo=QW355HH5L49K\">Open Google Colab Notebok</a>\n",
    "\n",
    "An example of the data is this review: \n",
    "\n",
    "> \"Rachel Griffiths writes and directs this award winning short film. A heartwarming story about coping with grief and cherishing the memory of those we've loved and lost. Although, only 15 minutes long, Griffiths manages to capture so much emotion and truth onto film in the short space of time. Bud Tingwell gives a touching performance as Will, a widower struggling to cope with his wife's death. Will is confronted by the harsh reality of loneliness and helplessness as he proceeds to take care of Ruth's pet cow, Tulip. The film displays the grief and responsibility one feels for those they have loved and lost. Good cinematography, great direction, and superbly acted. It will bring tears to all those who have lost a loved one, and survived.\"\n",
    "\n",
    "After training the model, you'll be able to enter some test sentences. The predicted outputs will be probabilities of how positive they are, such as 61.4% positive, 43.6% positive, or 35.3% positive.\n",
    "\n",
    "<img src=./img/predictions.png>\n",
    "\n"
   ]
  },
  {
   "cell_type": "markdown",
   "metadata": {},
   "source": [
    "## Notebook 2 - Train an English-to-French Translation LSTM\n",
    "\n",
    "This Google Colab notebook was written by Francois Chollet, a famous computer scientist who created an AI coding framework called Keras which is a part of Tensorflow. Here, you will train a translation model across 100 epochs. The algorithm of choice for these types of NLP translation tasks in 2017 when the notebook was authored, was a type of sequence-to-sequence model called Long Short-Term Memory (LSTM) networks. Note, the training may take up to 5 minutes.\n",
    "\n",
    "<a href=\"https://colab.research.google.com/github/keras-team/keras-io/blob/master/examples/nlp/ipynb/lstm_seq2seq.ipynb#scrollTo=yX76KQ0eiivz\"> Open Google Colab Notebook</a>"
   ]
  },
  {
   "cell_type": "markdown",
   "metadata": {},
   "source": [
    "## Notebook 3 - (Optional for Spanish Speakers) Sentiment Analysis in Spanish \n",
    "\n",
    "<a href=\"https://colab.research.google.com/drive/1ItS0-ZPXGcEeVmRmHaneX3w8eq6Vhdde?usp=sharing&fbclid=IwAR0z7XXLyy3KCJva9d-7zIXEYAZ8GK-9kXz4_hd_U_gfnu6-SoizgexOpXE#scrollTo=i7V1mxieDHII\"> Open Google Colab Notebook</a>"
   ]
  },
  {
   "cell_type": "markdown",
   "metadata": {},
   "source": [
    "## Notebook 4 - Text-to-Speech Transformer Model \n",
    "This notebook conducts audio synthesis based on text input, using two types of algorithms: a Forward Transformer TTS and a WaveRNN Vocoder. Transformers are a special type of algorithm that are used for state-of-the-art NLP tasks today. They are extremely large models that consist of billions if not trillions of parameters and can take months to years train on multiple GPUs. These large language models cannot fit in memory on a single GPU card.\n",
    "\n",
    "<a href=\"https://colab.research.google.com/github/as-ideas/TransformerTTS/blob/master/notebooks/synthesize_forward_wavernn.ipynb#scrollTo=zdMgfG7GMF_R\"> Open Google Colab Notebook </a>\n",
    "\n",
    "Under `Synthesize text`, try entering your own custom sentence: \n",
    "`sentence = 'Scientists at the CERN laboratory, say they have discovered a new particle.'`"
   ]
  },
  {
   "cell_type": "markdown",
   "metadata": {},
   "source": [
    "## Notebook 5 - Question and Answering in Multiple Languages using BERT\n",
    "BERT is a state-of-the-art language model. This notebook uses BERT fine-tuned on multilingual Question and Answer data (Spanish, Russian, German, Hindi, Chinese). In each cell you will find the `context` of the question that is about to be asked. The `question` based on the `context` is then presented to the model. The BERT model then answers the question. In the last cell, you can create your own `context` and `question`. For example, my `context` was: \"The working hours of a normal person is 9 to 5\" / `question`: What are normal working hours? \n",
    "\n",
    "<a href=\"https://colab.research.google.com/github/mrm8488/shared_colab_notebooks/blob/master/Try_mrm8488_xquad_finetuned_model.ipynb#scrollTo=WGA6yPiFe-JW\">Open Google Colab Notebook</a>"
   ]
  },
  {
   "cell_type": "markdown",
   "metadata": {},
   "source": [
    "## Notebook 6 - DialoGPT Chatbot\n",
    "\n",
    "A transformer language model that was trained on 147M Reddit comment chains. You can create a chat bot in just 10 lines of code. \n",
    "\n",
    "<img src=./img/dialogpt.png>\n",
    "\n",
    "<a href=\"https://colab.research.google.com/drive/1uib2-bxqYKR3lRdEmOh_MaWBGrMrPOUL#scrollTo=tDYhaGQJdJDr\">Open Google Colab Notebook</a>"
   ]
  },
  {
   "cell_type": "markdown",
   "metadata": {},
   "source": [
    "## Notebook 7 - AI Generated Art using VQGAN + CLIP (Long Generation Time)\n",
    "\n",
    "You should run this notebook last and go get a cup of coffee! It can take 25 minutes to generate images for 400 training iterations. \n",
    "\n",
    "Example Prompt: **\"sunny skies with girls on roller skates\"**\n",
    "\n",
    "<img src=./img/sunnygirl.png>\n",
    "\n",
    "A very user-friendly notebook that is self-explanatory and fun. Enter a prompt encoded by the CLIP algorithm and generate an image through VQGAN. Note, the setup and installation of libraries will take up to 5 minutes. Be patient!\n",
    "\n",
    "<a href=\"https://colab.research.google.com/drive/1n_xrgKDlGQcCF6O-eL3NOd_x4NSqAUjK#scrollTo=wSfISAhyPmyp\">Open Google Colab Notebook</a>"
   ]
  },
  {
   "cell_type": "markdown",
   "metadata": {},
   "source": [
    "# Optional Exercise \n",
    "\n",
    "## Using the Language Understanding Intelligence Service (LUIS)\n",
    "Increasingly, we expect computers to be able to use AI in order to understand spoken or typed commands in natural language. For example, we want to be able to say \"switch on the light\" or \"put the light on\", and have an AI-powered device understand the command and take appropriate action.\n",
    "\n",
    "### Provision the Language Understanding Intelligence Service (LUIS)\n",
    "The Microsoft cognitive services include the Language Understanding Intelligence Service (LUIS), which enables you to define *intents* that are applied to *entities* based on *utterances*.\n",
    "\n",
    "To get started with LUIS, follow these steps to provision the service in your Azure subscription:\n",
    "1. Open another browser tab and navigate to https://portal.azure.com.\n",
    "2. Sign in using your Microsoft account.\n",
    "3. Click **+ Create a resource**, and search for **Language Understanding**.\n",
    "4. In the list of services, click **Language Understanding**.\n",
    "5. In the **Language Understanding** blade, click **Create**.\n",
    "6. In the **Create** blade, enter the following details, and then click **Review + create**\n",
    "  * **Create Options**: Both\n",
    "  * **Subscription**: Azure for Students or Microsoft Azure Sponsorship\n",
    "  * **Resource Group**: Choose the existing resource group you used previously.\n",
    "  * **Name**: A unique name for your service.\n",
    "  * **Authoring location**: Choose a location in the US.\n",
    "  * **Authoring pricing tier**: Choose the Free F0 pricing tier.\n",
    "  * **Prediction location**: Choose a location in the US.\n",
    "  * **Prediction pricing tier**: Choose the Free F0 pricing tier.\n",
    "7. Click **Create**\n",
    "8. Wait for the service to be created.\n",
    "\n",
    "### Create a LUIS App\n",
    "To implement natural language understanding with LUIS, you must first create an app; and then add intents, utterances, and entities to define the commands you want the app to understand.\n",
    "1. Open a new browser tab and navigate to https://www.luis.ai/.\n",
    "2. Sign in using the Microsoft account associated with your Azure subscription. If this is the first time you have signed into LUIS, you may need to grant the app some permissions to access your account details, and then fill in some information and accept the terms of use.\n",
    "3. If a message appears prompting you to complete a tutorial, close it (you can complete this tutorial later - for now, we'll focus on a simpler example).\n",
    "4. If a welcome screen is shown, make sure **Continue using an Azure resource** is selected, click **Use Existing Authoring Resource**, and select your subscription and LUIS authoring resource you just created. Then Agree to the terms and click **Continue**.\n",
    "5. Click on **My apps** from the top menu bar.\n",
    "6. Click **+ New app **, and create a new app with the following settings:\n",
    "  * **Name**: Simple Home Automation\n",
    "  * **Culture**: English\n",
    "  * **Description**: A basic home automation example\n",
    "  * **Prediction Resource**: Choose the resource you created earlier in the Azure portal.\n",
    "7. Click **done**\n",
    "8. If an instructional window opens, close out of it.\n",
    "\n",
    "\n",
    "### Create Intents\n",
    "1. Click on the **Build** tab in the top menu.\n",
    "2. In the pane on the left, click **Intents**. Then click **+ Create**, and add an intent with the name **Light On**. Intents are **case sensitive** so enter the name exactly as it appears!\n",
    "3. In the field that says \"Type an example of what a user might say and hit Enter.\", type \"*switch the light on*\" and press **Enter** to add this utterance to the list.\n",
    "4. Next, hover your mouse over the word \"light\" in the newly created utterance so that the list shows the value *switch the [light] on*. Then click **[light]**,  type *Light*, and click **Create new entity** and create an entity named **Light** of type **Machine learned**.\n",
    "5. In the pane on the left, click **Intents** and click **+ Create**, to add a second intent with the name **Light Off**. Intents are **case sensitive** so enter the name exactly as it appears!\n",
    "6. In the field that says \"Type an example of what a user might say and hit Enter.\", type \"*switch the light off*\" and press **Enter** to add this utterance to the list.\n",
    "7. In the list of utterances, in the *switch the light off* utterance, hold the mouse over the word \"light\" so that the list shows the value *switch the [light] off*. Then click **[light]** and select the *Light* entity you created previously.\n",
    "\n",
    "### Train and Publish the Model\n",
    "1. At the top of the page, click **Train** to train the AI model.\n",
    "2. After the app has been trained, click **Test**, and then in the test pane, enter the following utterances and verify that for each utterance, the correct intent is predicted underneath the text bubble:\n",
    "    * *turn on the light* should predict **Light On**\n",
    "    * *put the light off* should predict **Light Off**\n",
    "3. At the top of the page, click **Publish**. Then ensure that the **Production slot** option is selected and click **Done**.\n",
    "4. Once the app has been published, click on the **Manage** tab at the top of the screen and then click **Azure Resources** from the menu on the left.\n",
    "\n",
    "### Consume the LUIS App\n",
    "Now that you have published your LUIS app, you can consume it from a client application by making HTTP requests that include a query string. The query will be used to identify the most likely intent, which will be returned to the calling client as in JSON response.\n",
    "\n",
    "Assign the **exampleQuery** variable in the cell below to reflect the Example Query for your app. Then **run the cell**, and enter a command when prompted to call your service and interpret the command. The JSON response is shown with an appropriate image for each command.\n",
    "\n",
    "Try the following commands:\n",
    "* *Switch on the light*\n",
    "* *Turn on the light*\n",
    "* *Turn off the light*\n",
    "* *Could you put the light on please?*"
   ]
  },
  {
   "cell_type": "code",
   "execution_count": null,
   "metadata": {},
   "outputs": [],
   "source": [
    "# Set up API configuration\n",
    "exampleQuery = \"YOUR_QUERY_HERE\""
   ]
  },
  {
   "cell_type": "code",
   "execution_count": null,
   "metadata": {},
   "outputs": [],
   "source": [
    "%matplotlib inline\n",
    "try:\n",
    "    from matplotlib.pyplot import imshow\n",
    "    from PIL import Image\n",
    "    import requests\n",
    "    from io import BytesIO\n",
    "    import json \n",
    "\n",
    "    # prompt for a command\n",
    "    command = input('Please enter a command: \\n')\n",
    "\n",
    "    # Call the LUIS service and get the JSON response\n",
    "    endpoint = exampleQuery + command.replace(\" \",\"+\")\n",
    "    response = requests.get(endpoint)\n",
    "    data = json.loads(response.content.decode(\"UTF-8\"))\n",
    "\n",
    "    # Identify the top scoring intent\n",
    "    intent = data[\"prediction\"][\"topIntent\"]\n",
    "    if (intent == \"Light On\"):\n",
    "        img_url = 'https://raw.githubusercontent.com/MicrosoftLearning/AI-Introduction/master/files/LightOn.jpg'\n",
    "    elif (intent == \"Light Off\"):\n",
    "        img_url = 'https://raw.githubusercontent.com/MicrosoftLearning/AI-Introduction/master/files/LightOff.jpg'\n",
    "    else:\n",
    "        img_url = 'https://raw.githubusercontent.com/MicrosoftLearning/AI-Introduction/master/files/Dunno.jpg'\n",
    "\n",
    "    # Get the appropriate image and show it\n",
    "    response = requests.get(img_url)\n",
    "    img = Image.open(BytesIO(response.content))\n",
    "    imshow(img)\n",
    "except:\n",
    "    print(\"Make sure you run the code cell above that assigns the exampleQuery variable! Then run this cell again.\")"
   ]
  },
  {
   "cell_type": "markdown",
   "metadata": {},
   "source": [
    "# Nice work!\n",
    "In this lab, you saw how to use many different Azure tools to process text and speech. There are so many applications you can create by combining these different tools. Brainstorm a few ideas you could build for the final project!"
   ]
  }
 ],
 "metadata": {
  "kernelspec": {
   "display_name": "Python 3",
   "language": "python",
   "name": "python3"
  },
  "language_info": {
   "codemirror_mode": {
    "name": "ipython",
    "version": 3
   },
   "file_extension": ".py",
   "mimetype": "text/x-python",
   "name": "python",
   "nbconvert_exporter": "python",
   "pygments_lexer": "ipython3",
   "version": "3.7.6"
  }
 },
 "nbformat": 4,
 "nbformat_minor": 4
}
